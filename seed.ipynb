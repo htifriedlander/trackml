{
 "cells": [
  {
   "cell_type": "code",
   "execution_count": 1,
   "metadata": {},
   "outputs": [],
   "source": [
    "import numpy as np\n",
    "import pandas as pd\n",
    "import time\n",
    "from multiprocessing import Pool\n",
    "import matplotlib.pyplot as plt\n",
    "from mpl_toolkits.mplot3d import axes3d, Axes3D\n",
    "import random\n",
    "%run utils.ipynb"
   ]
  },
  {
   "cell_type": "code",
   "execution_count": 2,
   "metadata": {},
   "outputs": [],
   "source": [
    "#hit_id - 1 is the index of the hit\n",
    "hit_idi = 0\n",
    "ri = 1\n",
    "phii = 2\n",
    "zi = 3\n",
    "volume_idi = 4\n",
    "layer_idi = 5\n",
    "\n",
    "d_phi = 3*np.pi/180\n",
    "d_phi2 = 3*np.pi/180\n",
    "d_z = 5\n",
    "d_r = 5\n",
    "\n",
    "z_max = 20#maximum distance along z axis of track origin\n",
    "\n",
    "r_first_layer = 32.313498434074106\n",
    "r_second_layer = 72.14554366164577\n",
    "r_third_layer = 116.08917912535651\n",
    "z_first_disk_right = 599.9792565549286\n",
    "z_first_disk_left = -z_first_disk_right\n",
    "z_second_disk_right = 699.9354521625164\n",
    "z_second_disk_left = -z_second_disk_right"
   ]
  },
  {
   "cell_type": "code",
   "execution_count": 3,
   "metadata": {},
   "outputs": [],
   "source": [
    "def trans_to_cylindrical (hits):\n",
    "    hits_trans_info = []\n",
    "    for row in hits.itertuples():\n",
    "        hit_id = row.__getattribute__('hit_id')\n",
    "        x = row.__getattribute__('x')\n",
    "        y = row.__getattribute__('y')\n",
    "        z = row.__getattribute__('z')\n",
    "        volume_id = row.__getattribute__('volume_id')\n",
    "        layer_id = row.__getattribute__('layer_id')\n",
    "        r, phi, z = cartesian_to_3d_polar(x,y,z)\n",
    "        hits_trans_info.append([hit_id, r, phi, z, volume_id, layer_id])\n",
    "    hits_trans = pd.DataFrame (hits_trans_info, columns=[\"hit_id\", \"r\", \"phi\", \"z\", \"volume_id\", \"layer_id\"])\n",
    "    return hits_trans\n"
   ]
  },
  {
   "cell_type": "code",
   "execution_count": 4,
   "metadata": {},
   "outputs": [],
   "source": [
    "def quadrant_shift (phi):\n",
    "    if (phi < 0):\n",
    "        return 2*np.pi + phi\n",
    "    else:\n",
    "        return phi"
   ]
  },
  {
   "cell_type": "code",
   "execution_count": 5,
   "metadata": {},
   "outputs": [],
   "source": [
    "def extrapolate (x1, x2, x3, y1, y2):\n",
    "    #assert (x2 - x1 != 0)\n",
    "    m = (y2 - y1)/(x2 - x1)\n",
    "    b = y1 - x1*m\n",
    "    y3 = x3*m + b\n",
    "    return y3"
   ]
  },
  {
   "cell_type": "code",
   "execution_count": 6,
   "metadata": {},
   "outputs": [],
   "source": [
    "def create_seeds (hits):#already transformed to cylindrical\n",
    "    \n",
    "    hits_trans = trans_to_cylindrical (hits)\n",
    "    hits_array = np.array (hits_trans.values)\n",
    "    \n",
    "    hits_first_layer = hits_trans.loc[(hits_trans['volume_id'] == 8) & (hits_trans['layer_id'] == 2)]\n",
    "    hits_first_layer_array = hits_first_layer.get_values()\n",
    "    hits_second_layer = hits_trans.loc[(hits_trans['volume_id'] == 8) & (hits_trans['layer_id'] == 4)]\n",
    "    hits_second_layer_array = hits_second_layer.get_values()\n",
    "    hits_third_layer = hits_trans.loc[(hits_trans['volume_id'] == 8) & (hits_trans['layer_id'] == 6)]\n",
    "    hits_third_layer_array = hits_third_layer.get_values()\n",
    "    hits_first_disk_left = hits_trans.loc[(hits_trans['volume_id'] == 7) & (hits_trans['layer_id'] == 14)]\n",
    "    hits_first_disk_left_array = hits_first_disk_left.get_values()\n",
    "    hits_first_disk_right = hits_trans.loc[(hits_trans['volume_id'] == 9) & (hits_trans['layer_id'] == 2)]\n",
    "    hits_first_disk_right_array = hits_first_disk_right.get_values()\n",
    "    hits_second_disk_left = hits_trans.loc[(hits_trans['volume_id'] == 7) & (hits_trans['layer_id'] == 12)]\n",
    "    hits_second_disk_left_array = hits_second_disk_left.get_values()\n",
    "    hits_second_disk_right = hits_trans.loc[(hits_trans['volume_id'] == 9) & (hits_trans['layer_id'] == 4)]\n",
    "    hits_second_disk_right_array = hits_second_disk_right.get_values()\n",
    "    \n",
    "    seeds = []\n",
    "    pool = Pool(32)\n",
    "    parameters = []\n",
    "    for hit in hits_first_layer_array:\n",
    "        parameters.append((hits_array, hits_second_layer_array, hits_third_layer_array, hits_first_disk_left_array, hits_first_disk_right_array, hits_second_disk_left_array, hits_second_disk_right_array, int(np.round(hit[hit_idi]))))\n",
    "    seeds = pool.starmap (create_seeds_from_first_hit, parameters)\n",
    "    #for parameter in parameters:\n",
    "        #create_seeds_from_first_hit (parameter[0], parameter[1], parameter[2], parameter[3], parameter[4], parameter[5], parameter[6], parameter[7])\n",
    "    flattened_seeds = []\n",
    "    for some_seeds in seeds:\n",
    "        for seed in some_seeds:\n",
    "            flattened_seeds.append (seed)\n",
    "    return flattened_seeds"
   ]
  },
  {
   "cell_type": "code",
   "execution_count": 20,
   "metadata": {},
   "outputs": [],
   "source": [
    "def create_seeds_from_first_hit (hits_array, hits_second_layer_array, hits_third_layer_array, hits_first_disk_left_array, hits_first_disk_right_array, hits_second_disk_left_array, hits_second_disk_right_array, hit_id):\n",
    "    seeds = []\n",
    "    hit = hits_array[hit_id - 1]\n",
    "    assert (hit[layer_idi] == 2)\n",
    "    phi = hit[phii]\n",
    "    z = hit[zi]\n",
    "    if (abs(phi) > np.pi/2):\n",
    "        phi = quadrant_shift (phi)\n",
    "    phiMin = phi - d_phi/2\n",
    "    phiMax = phi + d_phi/2\n",
    "    zMin = extrapolate (0, r_first_layer, r_second_layer, z_max, z)\n",
    "    zMax = extrapolate (0, r_first_layer, r_second_layer, -z_max, z)\n",
    "    for thisHit in hits_second_layer_array:\n",
    "        thisPhi = thisHit[phii]\n",
    "        if (phiMax > np.pi):\n",
    "            thisPhi = quadrant_shift (thisPhi)\n",
    "        thisZ = thisHit[zi]\n",
    "        if (thisPhi < phiMax and thisPhi > phiMin and thisZ < zMax and thisZ > zMin):\n",
    "            seeds += create_seeds_from_second_hit (hits_array, hits_third_layer_array, (hit_id, int(np.round(thisHit[hit_idi]))))\n",
    "            seeds += create_seeds_from_second_hit_first_disk (hits_array, hits_first_disk_left_array, hits_first_disk_right_array, (hit_id, int(np.round(thisHit[hit_idi]))))\n",
    "    \n",
    "    r = hit[ri]\n",
    "    if (z > z_max):\n",
    "        rMax = extrapolate (z_max, z, z_first_disk_right, 0, r)\n",
    "        rMin = extrapolate (-z_max, z, z_first_disk_right, 0, r)\n",
    "        for thisHit in hits_first_disk_right_array:\n",
    "            thisPhi = thisHit[phii]\n",
    "            if (phiMax > np.pi):\n",
    "                thisPhi = quadrant_shift (thisPhi)\n",
    "            thisR = thisHit[ri]\n",
    "            if (thisPhi < phiMax and thisPhi > phiMin and thisR < rMax and thisR > rMin):\n",
    "                seeds += create_seeds_from_second_hit_second_disk (hits_array, hits_second_disk_left_array, hits_second_disk_right_array, (hit_id, int(np.round(thisHit[hit_idi]))))\n",
    "    if (z < -z_max):\n",
    "        rMin = extrapolate (z_max, z, z_first_disk_left, 0, r)\n",
    "        rMax = extrapolate (-z_max, z, z_first_disk_left, 0, r)\n",
    "        for thisHit in hits_first_disk_left_array:\n",
    "            thisPhi = thisHit[phii]\n",
    "            if (phiMax > np.pi):\n",
    "                thisPhi = quadrant_shift (thisPhi)\n",
    "            thisR = thisHit[ri]\n",
    "            if (thisPhi < phiMax and thisPhi > phiMin and thisR < rMax and thisR > rMin):\n",
    "                seeds += create_seeds_from_second_hit_second_disk (hits_array, hits_second_disk_left_array, hits_second_disk_right_array, (hit_id, int(np.round(thisHit[hit_idi]))))\n",
    "    return seeds"
   ]
  },
  {
   "cell_type": "code",
   "execution_count": 8,
   "metadata": {},
   "outputs": [],
   "source": [
    "def create_seeds_from_second_hit (hits_array, hits_third_layer_array, twoSeed):\n",
    "    seeds = []\n",
    "    phi1 = hits_array[twoSeed[0] - 1][phii]\n",
    "    phi2 = hits_array[twoSeed[1] - 1][phii]\n",
    "    r1 = hits_array[twoSeed[0] - 1][ri]\n",
    "    r2 = hits_array[twoSeed[1] - 1][ri]\n",
    "    r3 = r_third_layer\n",
    "    z1 = hits_array[twoSeed[0] - 1][zi]\n",
    "    z2 = hits_array[twoSeed[1] - 1][zi]\n",
    "    phi3 = extrapolate (r1, r2, r3, phi1, phi2)\n",
    "    z3 = extrapolate (r1, r2, r3, z1, z2)\n",
    "    if (abs(phi3) > np.pi/2):\n",
    "        phi3 = quadrant_shift (phi3)\n",
    "    phiMin = phi3 - d_phi2/2\n",
    "    phiMax = phi3 + d_phi2/2\n",
    "    zMin = z3 - d_z/2\n",
    "    zMax = z3 + d_z/2\n",
    "    for hit in hits_third_layer_array:\n",
    "        thisPhi = hit[phii]\n",
    "        if (phiMax > np.pi):\n",
    "            thisPhi = quadrant_shift (thisPhi)\n",
    "        thisZ = hit[zi]\n",
    "        if (thisPhi < phiMax and thisPhi > phiMin and thisZ < zMax and thisZ > zMin):\n",
    "            seeds.append((twoSeed[0], twoSeed[1], int(np.round(hit[0]))))\n",
    "    return seeds"
   ]
  },
  {
   "cell_type": "code",
   "execution_count": 9,
   "metadata": {},
   "outputs": [],
   "source": [
    "def create_seeds_from_second_hit_first_disk (hits_array, hits_first_disk_left_array, hits_first_disk_right_array, twoSeed):\n",
    "    seeds = []\n",
    "    phi1 = hits_array[twoSeed[0] - 1][phii]\n",
    "    phi2 = hits_array[twoSeed[1] - 1][phii]\n",
    "    r1 = hits_array[twoSeed[0] - 1][ri]\n",
    "    r2 = hits_array[twoSeed[1] - 1][ri]\n",
    "    z1 = hits_array[twoSeed[0] - 1][zi]\n",
    "    z2 = hits_array[twoSeed[1] - 1][zi]\n",
    "    if (z2 > z1):\n",
    "        z3 = z_first_disk_right\n",
    "    else:\n",
    "        z3 = z_first_disk_left\n",
    "    phi3 = extrapolate (z1, z2, z3, phi1, phi2)\n",
    "    r3 = extrapolate (z1, z2, z3, r1, r2)\n",
    "    if (abs(phi3) > np.pi/2):\n",
    "        phi3 = quadrant_shift (phi3)\n",
    "    phiMin = phi3 - d_phi2/2\n",
    "    phiMax = phi3 + d_phi2/2\n",
    "    rMin = r3 - d_r/2\n",
    "    rMax = r3 + d_r/2\n",
    "    if (z2 > z1):\n",
    "        for hit in hits_first_disk_right_array:\n",
    "            thisPhi = hit[phii]\n",
    "            if (phiMax > np.pi):\n",
    "                thisPhi = quadrant_shift (thisPhi)\n",
    "            thisR = hit[ri]\n",
    "            if (thisPhi < phiMax and thisPhi > phiMin and thisR < rMax and thisR > rMin):\n",
    "                    seeds.append((twoSeed[0], twoSeed[1], int(np.round(hit[0]))))\n",
    "    else:\n",
    "        for hit in hits_first_disk_left_array:\n",
    "            thisPhi = hit[phii]\n",
    "            if (phiMax > np.pi):\n",
    "                thisPhi = quadrant_shift (thisPhi)\n",
    "            thisR = hit[ri]\n",
    "            if (thisPhi < phiMax and thisPhi > phiMin and thisR < rMax and thisR > rMin):\n",
    "                    seeds.append((twoSeed[0], twoSeed[1], int(np.round(hit[0]))))\n",
    "    return seeds"
   ]
  },
  {
   "cell_type": "code",
   "execution_count": 10,
   "metadata": {},
   "outputs": [],
   "source": [
    "def create_seeds_from_second_hit_second_disk (hits_array, hits_second_disk_left_array, hits_second_disk_right_array, twoSeed):\n",
    "    seeds = []\n",
    "    phi1 = hits_array[twoSeed[0] - 1][phii]\n",
    "    phi2 = hits_array[twoSeed[1] - 1][phii]\n",
    "    r1 = hits_array[twoSeed[0] - 1][ri]\n",
    "    r2 = hits_array[twoSeed[1] - 1][ri]\n",
    "    z1 = hits_array[twoSeed[0] - 1][zi]\n",
    "    z2 = hits_array[twoSeed[1] - 1][zi]\n",
    "    if (z2 > z1):\n",
    "        z3 = z_second_disk_right\n",
    "    else:\n",
    "        z3 = z_second_disk_left\n",
    "    phi3 = extrapolate (z1, z2, z3, phi1, phi2)\n",
    "    r3 = extrapolate (z1, z2, z3, r1, r2)\n",
    "    if (abs(phi3) > np.pi/2):\n",
    "        phi3 = quadrant_shift (phi3)\n",
    "    phiMin = phi3 - d_phi2/2\n",
    "    phiMax = phi3 + d_phi2/2\n",
    "    rMin = r3 - d_r/2\n",
    "    rMax = r3 + d_r/2\n",
    "    if (z2 > z1):\n",
    "        for hit in hits_second_disk_right_array:\n",
    "            thisPhi = hit[phii]\n",
    "            if (phiMax > np.pi):\n",
    "                thisPhi = quadrant_shift (thisPhi)\n",
    "            thisR = hit[ri]\n",
    "            if (thisPhi < phiMax and thisPhi > phiMin and thisR < rMax and thisR > rMin):\n",
    "                    seeds.append((twoSeed[0], twoSeed[1], int(np.round(hit[0]))))\n",
    "    else:\n",
    "        for hit in hits_second_disk_left_array:\n",
    "            thisPhi = hit[phii]\n",
    "            if (phiMax > np.pi):\n",
    "                thisPhi = quadrant_shift (thisPhi)\n",
    "            thisR = hit[ri]\n",
    "            if (thisPhi < phiMax and thisPhi > phiMin and thisR < rMax and thisR > rMin):\n",
    "                    seeds.append((twoSeed[0], twoSeed[1], int(np.round(hit[0]))))\n",
    "    return seeds"
   ]
  },
  {
   "cell_type": "code",
   "execution_count": 21,
   "metadata": {},
   "outputs": [],
   "source": [
    "#testing\n",
    "#get hits dataframe\n",
    "hits, cells, particles, truth = load_data_single_event(1050)\n",
    "\n",
    "#transform to cylindrical\n",
    "hits_trans = trans_to_cylindrical (hits)"
   ]
  },
  {
   "cell_type": "code",
   "execution_count": 22,
   "metadata": {},
   "outputs": [
    {
     "name": "stderr",
     "output_type": "stream",
     "text": [
      "/home/dl-one/anaconda3/envs/py36/lib/python3.6/site-packages/ipykernel/__main__.py:3: RuntimeWarning: divide by zero encountered in double_scalars\n",
      "  app.launch_new_instance()\n"
     ]
    },
    {
     "name": "stdout",
     "output_type": "stream",
     "text": [
      "28380\n"
     ]
    }
   ],
   "source": [
    "\n",
    "seeds = create_seeds(hits)\n",
    "print (len (seeds))\n",
    "np.save ('./seeds/training_event_v2_1050.npy', np.array (seeds))\n",
    "\n",
    "\n",
    "orig = np.load('./seeds/training_event_1050.npy')"
   ]
  },
  {
   "cell_type": "code",
   "execution_count": 15,
   "metadata": {},
   "outputs": [
    {
     "data": {
      "text/plain": [
       "(16517, 3)"
      ]
     },
     "execution_count": 15,
     "metadata": {},
     "output_type": "execute_result"
    }
   ],
   "source": [
    "orig.shape"
   ]
  },
  {
   "cell_type": "code",
   "execution_count": 12,
   "metadata": {},
   "outputs": [],
   "source": [
    "def rpzlv_from_seeds (seeds, hits):\n",
    "    hits_from_seeds = []\n",
    "    for seed in seeds:\n",
    "        hits_from_seed = []\n",
    "        for hit_id in seed:\n",
    "            hit = hits.loc[hits['hit_id'] == hit_id]\n",
    "            x = hit['x'].values[0]\n",
    "            y = hit['y'].values[0]\n",
    "            z = hit['z'].values[0]\n",
    "            r, phi, z = cartesian_to_3d_polar (x, y, z)\n",
    "            l = hit['layer_id'].values[0]\n",
    "            v = hit['volume_id'].values[0]\n",
    "            hits_from_seed.append ([r, phi, z, l, v])\n",
    "        hits_from_seeds.append (hits_from_seed)\n",
    "    return np.array (hits_from_seeds)"
   ]
  },
  {
   "cell_type": "raw",
   "metadata": {},
   "source": [
    "xyz = []\n",
    "hits_from_seeds = []\n",
    "seeds_short = seeds\n",
    "random.shuffle(seeds_short)\n",
    "seeds_short = seeds_short[:100]\n",
    "for i in seeds:\n",
    "    rows = hits.loc[hits['hit_id'].isin(i)]\n",
    "    \n",
    "    #x = [rows.iloc[0][1], rows.iloc[1][1], rows.iloc[2][1]]\n",
    "    #y = [rows.iloc[0][2], rows.iloc[1][2], rows.iloc[2][2]]\n",
    "    #z = [rows.iloc[0][3], rows.iloc[1][3], rows.iloc[2][3]]\n",
    "    #xyz.append([x, y, z])\n",
    "    \n",
    "    hit1 = [rows.iloc[0][1], rows.iloc[0][2], rows.iloc[0][3], rows.iloc[0][4], rows.iloc[0][5]]\n",
    "    r1, phi1, z1 = cartesian_to_3d_polar(hit1[0], hit1[1], hit1[2])\n",
    "    hit1_polar = [r1, phi1, z1, hit1[3], hit1[4]]\n",
    "    \n",
    "    hit2 = [rows.iloc[1][1], rows.iloc[1][2], rows.iloc[1][3], rows.iloc[1][4], rows.iloc[1][5]]\n",
    "    r2, phi2, z2 = cartesian_to_3d_polar(hit2[0], hit2[1], hit2[2])\n",
    "    hit2_polar = [r2, phi2, z2, hit2[3], hit2[4]]\n",
    "    \n",
    "    hit3 = [rows.iloc[2][3], rows.iloc[2][3], rows.iloc[2][3], rows.iloc[2][4], rows.iloc[2][5]]\n",
    "    r3, phi3, z3 = cartesian_to_3d_polar(hit3[0], hit3[1], hit3[2])\n",
    "    hit3_polar = [r3, phi3, z3, hit3[3], hit3[4]]\n",
    "    \n",
    "    hits_from_seeds.append([hit1_polar, hit2_polar, hit3_polar])\n",
    "#xyz = np.array (xyz)\n",
    "#np.save ('./xyz', xyz)\n",
    "hits_from_seeds = np.array(hits_from_seeds)\n",
    "np.save('./hits_from_seeds', hits_from_seeds)"
   ]
  },
  {
   "cell_type": "code",
   "execution_count": 14,
   "metadata": {},
   "outputs": [
    {
     "name": "stdout",
     "output_type": "stream",
     "text": [
      "106\n",
      "107\n",
      "108\n",
      "109\n",
      "110\n",
      "111\n",
      "112\n",
      "113\n",
      "114\n",
      "115\n",
      "116\n",
      "117\n",
      "118\n",
      "119\n",
      "120\n",
      "121\n",
      "122\n",
      "123\n",
      "124\n"
     ]
    }
   ],
   "source": [
    "itr = load_dataset ('./data/test_data', parts = ['hits'])\n",
    "for event_data in itr:\n",
    "    event_id = event_data[0]\n",
    "    if (event_id < 106):\n",
    "        continue\n",
    "    print (event_id)\n",
    "    hits = event_data[1]\n",
    "    hits_trans = trans_to_cylindrical (hits)\n",
    "    seeds = create_seeds (hits)\n",
    "    np.save ('./seeds/test_event_' + str (event_id) + '_.npy', np.array (seeds))"
   ]
  },
  {
   "cell_type": "code",
   "execution_count": 15,
   "metadata": {},
   "outputs": [],
   "source": [
    "#ax = Axes3D(plt.figure(figsize=(20,20)))\n",
    "#for seed in xyz:\n",
    "#    ax.scatter(seed[0], seed[1], seed[2])\n",
    "#    ax.plot(seed[0], seed[1], seed[2])\n",
    "#ax.view_init(0,0)\n",
    "#ax.set_xlabel('r (mm)')\n",
    "#ax.set_ylabel('phi (radians)')\n",
    "#ax.set_zlabel('z (mm)')\n",
    "#plt.show()"
   ]
  },
  {
   "cell_type": "code",
   "execution_count": null,
   "metadata": {},
   "outputs": [],
   "source": []
  }
 ],
 "metadata": {
  "kernelspec": {
   "display_name": "Python [conda env:py36]",
   "language": "python",
   "name": "conda-env-py36-py"
  },
  "language_info": {
   "codemirror_mode": {
    "name": "ipython",
    "version": 3
   },
   "file_extension": ".py",
   "mimetype": "text/x-python",
   "name": "python",
   "nbconvert_exporter": "python",
   "pygments_lexer": "ipython3",
   "version": "3.6.4"
  }
 },
 "nbformat": 4,
 "nbformat_minor": 2
}
