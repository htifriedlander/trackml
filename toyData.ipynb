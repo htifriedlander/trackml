{
 "cells": [
  {
   "cell_type": "markdown",
   "metadata": {},
   "source": [
    "# clean toy data generation"
   ]
  },
  {
   "cell_type": "code",
   "execution_count": 16,
   "metadata": {},
   "outputs": [],
   "source": [
    "import numpy as np\n",
    "from mpl_toolkits.mplot3d import Axes3D\n",
    "import matplotlib.pyplot as plt\n",
    "import pandas as pd\n",
    "import random\n",
    "import json\n",
    "import os\n",
    "\n",
    "#constants\n",
    "numberOfLayers = 10\n",
    "xResolution = 100\n",
    "yResolution = 100\n",
    "numberOfTracks = 10"
   ]
  },
  {
   "cell_type": "code",
   "execution_count": 17,
   "metadata": {},
   "outputs": [],
   "source": [
    "def toIndex (x, y):\n",
    "    x = round (x)\n",
    "    y = round (y)\n",
    "    return round(x + y*xResolution)\n",
    "\n",
    "def fromIndex (index):\n",
    "    return (index%xResolution, round(index%(xResolution*yResolution)/xResolution))\n",
    "\n",
    "def createEvent (local_random):\n",
    "    global particleId\n",
    "    particleId = 0\n",
    "    global hitId\n",
    "    hitId = 0\n",
    "    hits = []\n",
    "    truth = []\n",
    "    data = np.zeros ((numberOfLayers, xResolution*yResolution))\n",
    "    for i in range(numberOfTracks):\n",
    "        x0 = xResolution/3*(1 + local_random.random())\n",
    "        y0 = yResolution/3*(1 + local_random.random())\n",
    "        dx = xResolution/3/numberOfLayers*(-1 + 2*local_random.random())\n",
    "        dy = yResolution/3/numberOfLayers*(-1 + 2*local_random.random())\n",
    "        addTrack (x0, y0, dx, dy, data, hits, truth)\n",
    "        truth = pd.DataFrame (truth, columns=[\"hit_id\", \"particle_id\", \"tx\", \"ty\", \"tz\"])\n",
    "        hits = pd.DataFrame (hits, columns=[\"hit_id\", \"x\", \"y\", \"z\"])\n",
    "    return (data, hits, truth)\n",
    "    \n",
    "def addTrack (x0, y0, dx, dy, data, hits, truth):\n",
    "    global hitId\n",
    "    global particleId\n",
    "    for layer in range (numberOfLayers):\n",
    "        tx = x0 + dx*layer\n",
    "        ty = y0 + dy*layer\n",
    "        index = toIndex (x0 + dx*layer, y0 + dy*layer)\n",
    "        data[layer][index] = 1\n",
    "        trueHit = [hitId, particleId, tx, ty, layer]\n",
    "        truth.append (trueHit)\n",
    "        z = layer\n",
    "        (x, y) = fromIndex (index)\n",
    "        hit = [hitId, x, y, z]\n",
    "        hits.append (hit)\n",
    "        hitId = hitId + 1\n",
    "    particleId = particleId + 1"
   ]
  },
  {
   "cell_type": "code",
   "execution_count": 18,
   "metadata": {},
   "outputs": [],
   "source": [
    "def plotEvent (data):\n",
    "    fig = plt.figure()\n",
    "    ax = fig.add_subplot (111, projection = '3d')\n",
    "    for index in range (len(data)):\n",
    "        for i in range (len(data[index])):\n",
    "            if (data[index][i] == 1):\n",
    "                location = fromIndex (i)\n",
    "                ax.scatter (location[0],location[1],index)\n",
    "    plt.show()"
   ]
  },
  {
   "cell_type": "code",
   "execution_count": 35,
   "metadata": {},
   "outputs": [],
   "source": [
    "def createEvents (seed):\n",
    "    numberOfEvents = 10\n",
    "    events = []\n",
    "    local_random = random.Random(seed)\n",
    "    data_dir = 'toyData'\n",
    "    for i in range (numberOfEvents):\n",
    "        events.append (createEvent (local_random))\n",
    "        eventName = 'event' + str(seed*numberOfEvents + i) #sets event name\n",
    "        eventLoc = data_dir + \"/\" + eventName #sets complete eventName and the path\n",
    "        location = eventLoc + '-data.json'\n",
    "        with open(location, 'w') as outfile: #creates a new file for every event\n",
    "            json.dump(events[i][0].tolist(), outfile) #writes to every event file\n",
    "        location = eventLoc + '-hits.csv'\n",
    "        events[i][1].to_csv (location)\n",
    "        location = eventLoc + '-truth.csv'\n",
    "        events[i][2].to_csv (location)\n",
    "    return events"
   ]
  },
  {
   "cell_type": "code",
   "execution_count": 37,
   "metadata": {},
   "outputs": [],
   "source": [
    "#events = createEvents (10)\n",
    "#for i in range (1):\n",
    "#    plotEvent (events[i][0])\n",
    "#for i in range (3):\n",
    "#    print (events[i][1].head())\n",
    "#for i in range (3):\n",
    "#    print (events[i][2].head())"
   ]
  },
  {
   "cell_type": "code",
   "execution_count": null,
   "metadata": {},
   "outputs": [],
   "source": []
  }
 ],
 "metadata": {
  "kernelspec": {
   "display_name": "Python [conda env:py36]",
   "language": "python",
   "name": "conda-env-py36-py"
  },
  "language_info": {
   "codemirror_mode": {
    "name": "ipython",
    "version": 3
   },
   "file_extension": ".py",
   "mimetype": "text/x-python",
   "name": "python",
   "nbconvert_exporter": "python",
   "pygments_lexer": "ipython3",
   "version": "3.6.8"
  }
 },
 "nbformat": 4,
 "nbformat_minor": 2
}
