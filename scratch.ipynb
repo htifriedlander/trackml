{
 "cells": [
  {
   "cell_type": "code",
   "execution_count": 1,
   "metadata": {},
   "outputs": [],
   "source": [
    "import numpy as np"
   ]
  },
  {
   "cell_type": "code",
   "execution_count": 2,
   "metadata": {},
   "outputs": [],
   "source": [
    "param_dist = {'epsilon':np.random.uniform(low=0.003,high=0.006,size=(100,)),'phi_coef':np.random.uniform(low=0,high=5,size=(100,)),'phi_coef2':np.random.uniform(low=0,high=5,size=(100,)),'zdivrt_coef':np.random.uniform(low=0.5,high=1.0,size=(100,)),'zdivr_coef':np.random.uniform(low=0,high=5,size=(100,)),'xdivr_coef':np.random.uniform(low=0,high=0.1,size=(100,)),'ydivr_coef':np.random.uniform(low=0,high=0.1,size=(100,))}"
   ]
  },
  {
   "cell_type": "code",
   "execution_count": 5,
   "metadata": {},
   "outputs": [
    {
     "data": {
      "text/plain": [
       "100"
      ]
     },
     "execution_count": 5,
     "metadata": {},
     "output_type": "execute_result"
    }
   ],
   "source": [
    "len(param_dist['epsilon'])"
   ]
  },
  {
   "cell_type": "code",
   "execution_count": null,
   "metadata": {},
   "outputs": [],
   "source": []
  }
 ],
 "metadata": {
  "kernelspec": {
   "display_name": "Python [conda env:py36]",
   "language": "python",
   "name": "conda-env-py36-py"
  },
  "language_info": {
   "codemirror_mode": {
    "name": "ipython",
    "version": 3
   },
   "file_extension": ".py",
   "mimetype": "text/x-python",
   "name": "python",
   "nbconvert_exporter": "python",
   "pygments_lexer": "ipython3",
   "version": "3.6.4"
  }
 },
 "nbformat": 4,
 "nbformat_minor": 2
}
