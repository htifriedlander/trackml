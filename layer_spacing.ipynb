{
 "cells": [
  {
   "cell_type": "code",
   "execution_count": 1,
   "metadata": {},
   "outputs": [],
   "source": [
    "%run utils.ipynb"
   ]
  },
  {
   "cell_type": "code",
   "execution_count": 3,
   "metadata": {},
   "outputs": [],
   "source": [
    "hits, cells, particles, truth = load_data_single_event(1050)\n",
    "hits_trans = trans_to_cylindrical (hits)"
   ]
  },
  {
   "cell_type": "code",
   "execution_count": 39,
   "metadata": {},
   "outputs": [],
   "source": [
    "def is_cylinder (volume_id, layer_id):\n",
    "    return (((volume_id == 8 or volume_id == 13) and layer_id in [2,4,6,8])\n",
    "           or (volume_id == 17 and layer_id in [2,4]))"
   ]
  },
  {
   "cell_type": "code",
   "execution_count": 28,
   "metadata": {},
   "outputs": [],
   "source": [
    "def layer_number (volume_id, layer_id):\n",
    "    assert (volume_id in [8, 13, 17]), \"This volume_id is not in a cylinder!\"\n",
    "    assert (((volume_id == 8 or volume_id == 13) and layer_id in [2,4,6,8])\n",
    "           or (volume_id == 17 and layer_id in [2,4])), \"This layer_id is not in this volume_id\"\n",
    "    diction = {(8,2):1, (8,4):2, (8,6):3, (8,8):4, (13,2):5, (13,4):6, (13,6):7, (13,8):8, (17,2):9, (17,4):10}\n",
    "    return diction[(volume_id, layer_id)]"
   ]
  },
  {
   "cell_type": "code",
   "execution_count": 18,
   "metadata": {},
   "outputs": [],
   "source": [
    "def radius_of_cylinder (l):\n",
    "    layer_dict = {1:(8,2), 2:(8,4), 3:(8,6), 4:(8,8), 5:(13,2), 6:(13,4), 7:(13,6), 8:(13,8), 9:(17,2), 10:(17,4)}\n",
    "    (volume_id, layer_id) = layer_dict[l]\n",
    "    assert (volume_id in [8, 13, 17]), \"This volume_id is not in a cylinder!\"\n",
    "    assert (((volume_id == 8 or volume_id == 13) and layer_id in [2,4,6,8])\n",
    "           or (volume_id == 17 and layer_id in [2,4])), \"This layer_id is not in this volume_id\"\n",
    "    hits_this_layer = hits_trans.loc[(hits_trans['volume_id'] == volume_id) & (hits_trans['layer_id'] == layer_id)]\n",
    "    return np.average (hits_this_layer['r'].values)"
   ]
  },
  {
   "cell_type": "code",
   "execution_count": 49,
   "metadata": {},
   "outputs": [],
   "source": [
    "def layer_spacing_shift (hits_trans):\n",
    "    hits_trans_info = []\n",
    "    for row in hits_trans.itertuples():\n",
    "        hit_id = row.__getattribute__('hit_id')\n",
    "        r = row.__getattribute__('r')\n",
    "        phi = row.__getattribute__('phi')\n",
    "        z = row.__getattribute__('z')\n",
    "        volume_id = row.__getattribute__('volume_id')\n",
    "        layer_id = row.__getattribute__('layer_id')\n",
    "        if (not is_cylinder (volume_id, layer_id)):\n",
    "            continue\n",
    "        l = layer_number (volume_id, layer_id)\n",
    "        z = l/r*z\n",
    "        r = l\n",
    "        hits_trans_info.append([hit_id, r, phi, z, volume_id, layer_id])\n",
    "    hits_trans_shifted = pd.DataFrame (hits_trans_info, columns=[\"hit_id\", \"r\", \"phi\", \"z\", \"volume_id\", \"layer_id\"])\n",
    "    return hits_trans_shifted"
   ]
  },
  {
   "cell_type": "code",
   "execution_count": 50,
   "metadata": {},
   "outputs": [],
   "source": [
    "hits_trans_shifted = layer_spacing_shift (hits_trans)"
   ]
  },
  {
   "cell_type": "code",
   "execution_count": 58,
   "metadata": {},
   "outputs": [
    {
     "data": {
      "image/png": "[encoded data removed]",
      "text/plain": [
       "<Figure size 432x288 with 1 Axes>"
      ]
     },
     "metadata": {},
     "output_type": "display_data"
    },
    {
     "data": {
      "image/png": "[encoded data removed]",
      "text/plain": [
       "<Figure size 432x288 with 1 Axes>"
      ]
     },
     "metadata": {},
     "output_type": "display_data"
    }
   ],
   "source": [
    "r = hits_trans['r'].values\n",
    "z = hits_trans['z'].values\n",
    "plt.scatter (z,r)\n",
    "plt.show()\n",
    "r = hits_trans_shifted['r'].values\n",
    "z = hits_trans_shifted['z'].values\n",
    "plt.scatter (z,r)\n",
    "plt.show()"
   ]
  },
  {
   "cell_type": "code",
   "execution_count": null,
   "metadata": {},
   "outputs": [],
   "source": []
  }
 ],
 "metadata": {
  "kernelspec": {
   "display_name": "Python [conda env:py36]",
   "language": "python",
   "name": "conda-env-py36-py"
  },
  "language_info": {
   "codemirror_mode": {
    "name": "ipython",
    "version": 3
   },
   "file_extension": ".py",
   "mimetype": "text/x-python",
   "name": "python",
   "nbconvert_exporter": "python",
   "pygments_lexer": "ipython3",
   "version": "3.6.4"
  }
 },
 "nbformat": 4,
 "nbformat_minor": 2
}
