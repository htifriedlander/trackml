{
 "cells": [
  {
   "cell_type": "code",
   "execution_count": 1,
   "metadata": {},
   "outputs": [
    {
     "name": "stdout",
     "output_type": "stream",
     "text": [
      "[32.31738261840044, 72.15091393575189, 116.0946312221527, 172.07253929769357, 260.3569293324722, 360.3101542051449, 500.2151479081191, 660.12508634391, 820.1546870692688, 1020.1106909393304]\n"
     ]
    }
   ],
   "source": [
    "%run all_create.ipynb"
   ]
  },
  {
   "cell_type": "code",
   "execution_count": 2,
   "metadata": {},
   "outputs": [
    {
     "name": "stdout",
     "output_type": "stream",
     "text": [
      "INFO:tensorflow:Restoring parameters from ./checkpoints/allv1/model.ckpt\n"
     ]
    }
   ],
   "source": [
    "engine = predict_engine()\n",
    "engine.load()"
   ]
  },
  {
   "cell_type": "code",
   "execution_count": 7,
   "metadata": {},
   "outputs": [
    {
     "name": "stdout",
     "output_type": "stream",
     "text": [
      "[[0.00000000e+00 0.00000000e+00 0.00000000e+00]\n",
      " [0.00000000e+00 0.00000000e+00 0.00000000e+00]\n",
      " [1.72072539e+02 1.11096209e+00 3.19907784e+02]\n",
      " [2.60356929e+02 1.04012511e+00 4.13602781e+02]\n",
      " [3.60310154e+02 1.03768070e+00 4.25347745e+02]\n",
      " [5.00215148e+02 1.12328683e+00 4.43122530e+02]\n",
      " [6.60125086e+02 1.09913572e+00 4.56300902e+02]\n",
      " [8.20154687e+02 1.01968761e+00 4.22790992e+02]\n",
      " [1.02011069e+03 1.08191551e+00 4.07449794e+02]\n",
      " [0.00000000e+00 0.00000000e+00 0.00000000e+00]]\n"
     ]
    },
    {
     "data": {
      "image/png": "[encoded data removed]",
      "text/plain": [
       "<Figure size 432x288 with 1 Axes>"
      ]
     },
     "metadata": {},
     "output_type": "display_data"
    }
   ],
   "source": [
    "seed = [[r_values[0],1.0,100,0,0],\n",
    "        [r_values[1],1.01,200,0,0],\n",
    "        [r_values[2],1.02,300,0,0],\n",
    "        [r_values[3],1.03,300,0,0],\n",
    "        [r_values[4],1.04,300,0,0],\n",
    "        [r_values[5],1.05,300,0,0],\n",
    "        [r_values[6],1.06,300,0,0],\n",
    "        [r_values[7],1.07,300,0,0],\n",
    "        [r_values[8],1.08,300,0,0],\n",
    "       ]\n",
    "prediction = engine.pred(seed)\n",
    "seed = np.array (seed)\n",
    "plt.scatter (seed[:,1],seed[:,0])\n",
    "print (prediction)\n",
    "plt.scatter (prediction[8:9,1], prediction[8:9,0])\n",
    "plt.axis ([-1,2,20,1200])\n",
    "plt.show ()"
   ]
  },
  {
   "cell_type": "code",
   "execution_count": null,
   "metadata": {},
   "outputs": [],
   "source": []
  }
 ],
 "metadata": {
  "kernelspec": {
   "display_name": "Python [conda env:py36]",
   "language": "python",
   "name": "conda-env-py36-py"
  },
  "language_info": {
   "codemirror_mode": {
    "name": "ipython",
    "version": 3
   },
   "file_extension": ".py",
   "mimetype": "text/x-python",
   "name": "python",
   "nbconvert_exporter": "python",
   "pygments_lexer": "ipython3",
   "version": "3.6.4"
  }
 },
 "nbformat": 4,
 "nbformat_minor": 2
}
