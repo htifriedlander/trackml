{
 "cells": [
  {
   "cell_type": "code",
   "execution_count": 14,
   "metadata": {},
   "outputs": [],
   "source": [
    "import numpy as np\n",
    "import tensorflow as tf\n",
    "%matplotlib inline\n",
    "import matplotlib\n",
    "import matplotlib.pyplot as plt\n",
    "\n",
    "# To support both python 2 and python 3\n",
    "from __future__ import division, print_function, unicode_literals\n"
   ]
  },
  {
   "cell_type": "code",
   "execution_count": 15,
   "metadata": {},
   "outputs": [],
   "source": [
    "(x_train, y_train), (x_test, y_test) = tf.keras.datasets.mnist.load_data()"
   ]
  },
  {
   "cell_type": "code",
   "execution_count": 16,
   "metadata": {},
   "outputs": [],
   "source": [
    "(x_train_ex, y_train_ex), (x_test_ex, y_test_ex) = tf.keras.datasets.mnist.load_data()"
   ]
  },
  {
   "cell_type": "code",
   "execution_count": 17,
   "metadata": {},
   "outputs": [
    {
     "data": {
      "text/plain": [
       "array([5, 0, 4, ..., 5, 6, 8], dtype=uint8)"
      ]
     },
     "execution_count": 17,
     "metadata": {},
     "output_type": "execute_result"
    }
   ],
   "source": [
    "y_train_ex"
   ]
  },
  {
   "cell_type": "code",
   "execution_count": 18,
   "metadata": {},
   "outputs": [],
   "source": [
    "#reshapes samples into column vectors + converts to grayscale\n",
    "x_train = x_train.astype(np.float32).reshape(-1,28*28) / 255.0 \n",
    "x_test = x_test.astype(np.float32).reshape(-1,28*28) / 255.0\n"
   ]
  },
  {
   "cell_type": "code",
   "execution_count": 19,
   "metadata": {},
   "outputs": [],
   "source": [
    "y_train = y_train.astype(np.int32)\n",
    "y_test = y_test.astype(np.int32)\n",
    "\n",
    "#letting last 10000 samples be validation set \n",
    "x_validation, x_train = x_train[50000:], x_train[:50000]\n",
    "y_validation, y_train = y_train[50000:], y_train[:50000]\n"
   ]
  },
  {
   "cell_type": "code",
   "execution_count": 20,
   "metadata": {},
   "outputs": [],
   "source": [
    "#model constants \n",
    "n_columns = 28*28\n",
    "n_hidden1 = 16 #layer size\n",
    "n_hidden2 = 10\n",
    "num_outputs = 10\n",
    "learning_rate = 0.01\n"
   ]
  },
  {
   "cell_type": "code",
   "execution_count": 21,
   "metadata": {},
   "outputs": [],
   "source": [
    "X = tf.placeholder(tf.float32, shape=(None, n_columns), name=\"X\")\n",
    "Y = tf.placeholder(tf.int32, shape=(None), name=\"Y\")"
   ]
  },
  {
   "cell_type": "code",
   "execution_count": 22,
   "metadata": {},
   "outputs": [],
   "source": [
    " \n",
    "\n",
    "stddev = 2 / np.sqrt(n_columns)\n",
    "w1_init = tf.truncated_normal((n_columns,n_hidden1),stddev=stddev)\n",
    "w1 = tf.Variable(w1_init, name = 'w1')\n",
    "b1 = tf.Variable(tf.zeros([n_hidden1]), name = 'b1')\n",
    "logit1 = tf.matmul(X, w1) + b1\n",
    "h1 = tf.nn.relu(logit1)\n",
    "#h1 should have shape batchsize, 16\n",
    "\n",
    "stddev2 = 2 / np.sqrt(n_hidden1)\n",
    "w2_init = tf.truncated_normal((n_hidden1,n_hidden2),stddev=stddev2)\n",
    "w2 = tf.Variable(w2_init, name = 'w2')\n",
    "b2 = tf.Variable(tf.zeros([n_hidden2]), name = 'b2')\n",
    "logit2 = tf.matmul(h1, w2) + b2\n",
    "h2 = tf.nn.relu(logit2)\n",
    "\n",
    "stddev3 = 2 / np.sqrt(int(h2.get_shape()[1]))\n",
    "w3_init = tf.truncated_normal((n_hidden2,num_outputs), stddev=stddev3)\n",
    "w3 = tf.Variable(w3_init, name = 'w3')\n",
    "b3 = tf.Variable(tf.zeros([num_outputs]), name = 'b3')\n",
    "final_logits = tf.matmul(h2,w3) + b3\n",
    "\n",
    "\n",
    "x_entrop = tf.nn.sparse_softmax_cross_entropy_with_logits(labels=Y, logits=final_logits)\n",
    "loss = tf.reduce_mean(x_entrop, name='loss')\n",
    "optimizer = tf.train.GradientDescentOptimizer(learning_rate)\n",
    "train_op = optimizer.minimize(loss)\n",
    "\n",
    "\n",
    "correct = tf.nn.in_top_k(final_logits, Y, 1) #????\n",
    "acc = tf.reduce_mean(tf.cast(correct, tf.float32)) #????\n"
   ]
  },
  {
   "cell_type": "code",
   "execution_count": 23,
   "metadata": {},
   "outputs": [],
   "source": [
    "def shuffle_batch(X, y, batch_size):\n",
    "    rnd_idx = np.random.permutation(len(X))\n",
    "    n_batches = len(X) // batch_size\n",
    "    for batch_idx in np.array_split(rnd_idx, n_batches):\n",
    "        X_batch, y_batch = X[batch_idx], y[batch_idx]\n",
    "        yield X_batch, y_batch"
   ]
  },
  {
   "cell_type": "code",
   "execution_count": 24,
   "metadata": {},
   "outputs": [],
   "source": [
    "init = tf.global_variables_initializer()"
   ]
  },
  {
   "cell_type": "code",
   "execution_count": 28,
   "metadata": {},
   "outputs": [
    {
     "name": "stdout",
     "output_type": "stream",
     "text": [
      "0 Batch acc: 0.8 Val acc: 0.8244\n",
      "1 Batch acc: 0.96 Val acc: 0.8916\n",
      "2 Batch acc: 0.92 Val acc: 0.9068\n",
      "3 Batch acc: 0.94 Val acc: 0.9129\n",
      "4 Batch acc: 0.92 Val acc: 0.9179\n",
      "5 Batch acc: 0.9 Val acc: 0.9228\n",
      "6 Batch acc: 0.94 Val acc: 0.9279\n",
      "7 Batch acc: 0.9 Val acc: 0.9314\n",
      "8 Batch acc: 0.92 Val acc: 0.9335\n",
      "9 Batch acc: 0.88 Val acc: 0.9351\n",
      "10 Batch acc: 0.96 Val acc: 0.9386\n",
      "11 Batch acc: 0.98 Val acc: 0.9383\n",
      "12 Batch acc: 0.98 Val acc: 0.9393\n",
      "13 Batch acc: 0.94 Val acc: 0.9426\n",
      "14 Batch acc: 0.94 Val acc: 0.9434\n",
      "15 Batch acc: 1.0 Val acc: 0.9442\n",
      "16 Batch acc: 0.96 Val acc: 0.945\n",
      "17 Batch acc: 0.98 Val acc: 0.9468\n",
      "18 Batch acc: 0.98 Val acc: 0.948\n",
      "19 Batch acc: 0.96 Val acc: 0.9482\n",
      "20 Batch acc: 0.88 Val acc: 0.9478\n",
      "21 Batch acc: 0.98 Val acc: 0.9494\n",
      "22 Batch acc: 0.96 Val acc: 0.9489\n",
      "23 Batch acc: 0.98 Val acc: 0.9491\n",
      "24 Batch acc: 0.96 Val acc: 0.9498\n",
      "25 Batch acc: 0.98 Val acc: 0.9498\n",
      "26 Batch acc: 0.94 Val acc: 0.9518\n",
      "27 Batch acc: 0.94 Val acc: 0.9518\n",
      "28 Batch acc: 1.0 Val acc: 0.9506\n",
      "29 Batch acc: 1.0 Val acc: 0.952\n",
      "30 Batch acc: 0.98 Val acc: 0.9517\n",
      "31 Batch acc: 0.98 Val acc: 0.9528\n",
      "32 Batch acc: 0.92 Val acc: 0.9534\n",
      "33 Batch acc: 0.98 Val acc: 0.9538\n",
      "34 Batch acc: 1.0 Val acc: 0.954\n",
      "35 Batch acc: 0.98 Val acc: 0.9478\n",
      "36 Batch acc: 0.92 Val acc: 0.9539\n",
      "37 Batch acc: 0.98 Val acc: 0.9516\n",
      "38 Batch acc: 0.98 Val acc: 0.9536\n",
      "39 Batch acc: 0.92 Val acc: 0.9534\n",
      "40 Batch acc: 0.94 Val acc: 0.9517\n",
      "41 Batch acc: 0.98 Val acc: 0.9523\n",
      "42 Batch acc: 0.92 Val acc: 0.9526\n",
      "43 Batch acc: 0.92 Val acc: 0.9539\n",
      "44 Batch acc: 0.98 Val acc: 0.954\n",
      "45 Batch acc: 0.98 Val acc: 0.9533\n",
      "46 Batch acc: 0.96 Val acc: 0.9527\n",
      "47 Batch acc: 1.0 Val acc: 0.9549\n",
      "48 Batch acc: 1.0 Val acc: 0.9538\n",
      "49 Batch acc: 0.98 Val acc: 0.9551\n",
      "50 Batch acc: 0.98 Val acc: 0.9549\n",
      "51 Batch acc: 0.98 Val acc: 0.9516\n",
      "52 Batch acc: 0.98 Val acc: 0.9539\n",
      "53 Batch acc: 0.98 Val acc: 0.9496\n",
      "54 Batch acc: 0.96 Val acc: 0.9542\n",
      "55 Batch acc: 1.0 Val acc: 0.9542\n",
      "56 Batch acc: 0.96 Val acc: 0.9531\n",
      "57 Batch acc: 0.92 Val acc: 0.953\n",
      "58 Batch acc: 0.94 Val acc: 0.9531\n",
      "59 Batch acc: 0.98 Val acc: 0.9546\n",
      "60 Batch acc: 0.98 Val acc: 0.9549\n",
      "61 Batch acc: 1.0 Val acc: 0.9544\n",
      "62 Batch acc: 0.98 Val acc: 0.953\n",
      "63 Batch acc: 1.0 Val acc: 0.9529\n",
      "64 Batch acc: 0.96 Val acc: 0.9524\n",
      "65 Batch acc: 1.0 Val acc: 0.9525\n",
      "66 Batch acc: 0.98 Val acc: 0.9528\n",
      "67 Batch acc: 1.0 Val acc: 0.9512\n",
      "68 Batch acc: 1.0 Val acc: 0.9534\n",
      "69 Batch acc: 0.94 Val acc: 0.9544\n",
      "70 Batch acc: 0.98 Val acc: 0.9529\n",
      "71 Batch acc: 0.96 Val acc: 0.9543\n",
      "72 Batch acc: 0.94 Val acc: 0.9543\n",
      "73 Batch acc: 0.96 Val acc: 0.9545\n",
      "74 Batch acc: 0.98 Val acc: 0.9545\n",
      "75 Batch acc: 0.92 Val acc: 0.9539\n",
      "76 Batch acc: 0.98 Val acc: 0.9548\n",
      "77 Batch acc: 0.98 Val acc: 0.95\n",
      "78 Batch acc: 0.96 Val acc: 0.9534\n",
      "79 Batch acc: 1.0 Val acc: 0.9538\n",
      "80 Batch acc: 0.96 Val acc: 0.9545\n",
      "81 Batch acc: 0.98 Val acc: 0.9539\n",
      "82 Batch acc: 1.0 Val acc: 0.9544\n",
      "83 Batch acc: 1.0 Val acc: 0.9547\n",
      "84 Batch acc: 0.98 Val acc: 0.9542\n",
      "85 Batch acc: 1.0 Val acc: 0.955\n",
      "86 Batch acc: 0.98 Val acc: 0.9558\n",
      "87 Batch acc: 0.98 Val acc: 0.9531\n",
      "88 Batch acc: 0.96 Val acc: 0.9558\n",
      "89 Batch acc: 0.98 Val acc: 0.954\n",
      "90 Batch acc: 0.98 Val acc: 0.9553\n",
      "91 Batch acc: 0.96 Val acc: 0.9503\n",
      "92 Batch acc: 1.0 Val acc: 0.9526\n",
      "93 Batch acc: 0.98 Val acc: 0.9561\n",
      "94 Batch acc: 0.96 Val acc: 0.9537\n",
      "95 Batch acc: 0.98 Val acc: 0.9552\n",
      "96 Batch acc: 0.98 Val acc: 0.9531\n",
      "97 Batch acc: 0.98 Val acc: 0.9563\n",
      "98 Batch acc: 1.0 Val acc: 0.954\n",
      "99 Batch acc: 1.0 Val acc: 0.9545\n",
      "100 Batch acc: 1.0 Val acc: 0.9535\n",
      "101 Batch acc: 1.0 Val acc: 0.9524\n",
      "102 Batch acc: 1.0 Val acc: 0.9556\n",
      "103 Batch acc: 0.98 Val acc: 0.9547\n",
      "104 Batch acc: 0.96 Val acc: 0.9522\n",
      "105 Batch acc: 0.98 Val acc: 0.9531\n"
     ]
    },
    {
     "ename": "KeyboardInterrupt",
     "evalue": "",
     "output_type": "error",
     "traceback": [
      "\u001b[0;31m---------------------------------------------------------------------------\u001b[0m",
      "\u001b[0;31mKeyboardInterrupt\u001b[0m                         Traceback (most recent call last)",
      "\u001b[0;32m<ipython-input-28-aa3d503da134>\u001b[0m in \u001b[0;36m<module>\u001b[0;34m()\u001b[0m\n\u001b[1;32m      6\u001b[0m     \u001b[0;32mfor\u001b[0m \u001b[0mepoch\u001b[0m \u001b[0;32min\u001b[0m \u001b[0mrange\u001b[0m\u001b[0;34m(\u001b[0m\u001b[0mn_epochs\u001b[0m\u001b[0;34m)\u001b[0m\u001b[0;34m:\u001b[0m\u001b[0;34m\u001b[0m\u001b[0m\n\u001b[1;32m      7\u001b[0m         \u001b[0;32mfor\u001b[0m \u001b[0mx_batch\u001b[0m\u001b[0;34m,\u001b[0m \u001b[0my_batch\u001b[0m \u001b[0;32min\u001b[0m \u001b[0mshuffle_batch\u001b[0m\u001b[0;34m(\u001b[0m\u001b[0mx_train\u001b[0m\u001b[0;34m,\u001b[0m \u001b[0my_train\u001b[0m\u001b[0;34m,\u001b[0m \u001b[0mbatch_size\u001b[0m\u001b[0;34m)\u001b[0m\u001b[0;34m:\u001b[0m\u001b[0;34m\u001b[0m\u001b[0m\n\u001b[0;32m----> 8\u001b[0;31m             \u001b[0msess\u001b[0m\u001b[0;34m.\u001b[0m\u001b[0mrun\u001b[0m\u001b[0;34m(\u001b[0m\u001b[0mtrain_op\u001b[0m\u001b[0;34m,\u001b[0m \u001b[0mfeed_dict\u001b[0m\u001b[0;34m=\u001b[0m\u001b[0;34m{\u001b[0m\u001b[0mX\u001b[0m\u001b[0;34m:\u001b[0m\u001b[0mx_batch\u001b[0m\u001b[0;34m,\u001b[0m \u001b[0mY\u001b[0m\u001b[0;34m:\u001b[0m \u001b[0my_batch\u001b[0m\u001b[0;34m}\u001b[0m\u001b[0;34m)\u001b[0m\u001b[0;34m\u001b[0m\u001b[0m\n\u001b[0m\u001b[1;32m      9\u001b[0m \u001b[0;34m\u001b[0m\u001b[0m\n\u001b[1;32m     10\u001b[0m         \u001b[0macc_batch\u001b[0m \u001b[0;34m=\u001b[0m \u001b[0macc\u001b[0m\u001b[0;34m.\u001b[0m\u001b[0meval\u001b[0m\u001b[0;34m(\u001b[0m\u001b[0mfeed_dict\u001b[0m\u001b[0;34m=\u001b[0m\u001b[0;34m{\u001b[0m\u001b[0mX\u001b[0m\u001b[0;34m:\u001b[0m\u001b[0mx_batch\u001b[0m\u001b[0;34m,\u001b[0m \u001b[0mY\u001b[0m\u001b[0;34m:\u001b[0m\u001b[0my_batch\u001b[0m\u001b[0;34m}\u001b[0m\u001b[0;34m)\u001b[0m\u001b[0;34m\u001b[0m\u001b[0m\n",
      "\u001b[0;32m~/anaconda3/envs/py36/lib/python3.6/site-packages/tensorflow/python/client/session.py\u001b[0m in \u001b[0;36mrun\u001b[0;34m(self, fetches, feed_dict, options, run_metadata)\u001b[0m\n\u001b[1;32m    893\u001b[0m     \u001b[0;32mtry\u001b[0m\u001b[0;34m:\u001b[0m\u001b[0;34m\u001b[0m\u001b[0m\n\u001b[1;32m    894\u001b[0m       result = self._run(None, fetches, feed_dict, options_ptr,\n\u001b[0;32m--> 895\u001b[0;31m                          run_metadata_ptr)\n\u001b[0m\u001b[1;32m    896\u001b[0m       \u001b[0;32mif\u001b[0m \u001b[0mrun_metadata\u001b[0m\u001b[0;34m:\u001b[0m\u001b[0;34m\u001b[0m\u001b[0m\n\u001b[1;32m    897\u001b[0m         \u001b[0mproto_data\u001b[0m \u001b[0;34m=\u001b[0m \u001b[0mtf_session\u001b[0m\u001b[0;34m.\u001b[0m\u001b[0mTF_GetBuffer\u001b[0m\u001b[0;34m(\u001b[0m\u001b[0mrun_metadata_ptr\u001b[0m\u001b[0;34m)\u001b[0m\u001b[0;34m\u001b[0m\u001b[0m\n",
      "\u001b[0;32m~/anaconda3/envs/py36/lib/python3.6/site-packages/tensorflow/python/client/session.py\u001b[0m in \u001b[0;36m_run\u001b[0;34m(self, handle, fetches, feed_dict, options, run_metadata)\u001b[0m\n\u001b[1;32m   1126\u001b[0m     \u001b[0;32mif\u001b[0m \u001b[0mfinal_fetches\u001b[0m \u001b[0;32mor\u001b[0m \u001b[0mfinal_targets\u001b[0m \u001b[0;32mor\u001b[0m \u001b[0;34m(\u001b[0m\u001b[0mhandle\u001b[0m \u001b[0;32mand\u001b[0m \u001b[0mfeed_dict_tensor\u001b[0m\u001b[0;34m)\u001b[0m\u001b[0;34m:\u001b[0m\u001b[0;34m\u001b[0m\u001b[0m\n\u001b[1;32m   1127\u001b[0m       results = self._do_run(handle, final_targets, final_fetches,\n\u001b[0;32m-> 1128\u001b[0;31m                              feed_dict_tensor, options, run_metadata)\n\u001b[0m\u001b[1;32m   1129\u001b[0m     \u001b[0;32melse\u001b[0m\u001b[0;34m:\u001b[0m\u001b[0;34m\u001b[0m\u001b[0m\n\u001b[1;32m   1130\u001b[0m       \u001b[0mresults\u001b[0m \u001b[0;34m=\u001b[0m \u001b[0;34m[\u001b[0m\u001b[0;34m]\u001b[0m\u001b[0;34m\u001b[0m\u001b[0m\n",
      "\u001b[0;32m~/anaconda3/envs/py36/lib/python3.6/site-packages/tensorflow/python/client/session.py\u001b[0m in \u001b[0;36m_do_run\u001b[0;34m(self, handle, target_list, fetch_list, feed_dict, options, run_metadata)\u001b[0m\n\u001b[1;32m   1342\u001b[0m     \u001b[0;32mif\u001b[0m \u001b[0mhandle\u001b[0m \u001b[0;32mis\u001b[0m \u001b[0;32mNone\u001b[0m\u001b[0;34m:\u001b[0m\u001b[0;34m\u001b[0m\u001b[0m\n\u001b[1;32m   1343\u001b[0m       return self._do_call(_run_fn, self._session, feeds, fetches, targets,\n\u001b[0;32m-> 1344\u001b[0;31m                            options, run_metadata)\n\u001b[0m\u001b[1;32m   1345\u001b[0m     \u001b[0;32melse\u001b[0m\u001b[0;34m:\u001b[0m\u001b[0;34m\u001b[0m\u001b[0m\n\u001b[1;32m   1346\u001b[0m       \u001b[0;32mreturn\u001b[0m \u001b[0mself\u001b[0m\u001b[0;34m.\u001b[0m\u001b[0m_do_call\u001b[0m\u001b[0;34m(\u001b[0m\u001b[0m_prun_fn\u001b[0m\u001b[0;34m,\u001b[0m \u001b[0mself\u001b[0m\u001b[0;34m.\u001b[0m\u001b[0m_session\u001b[0m\u001b[0;34m,\u001b[0m \u001b[0mhandle\u001b[0m\u001b[0;34m,\u001b[0m \u001b[0mfeeds\u001b[0m\u001b[0;34m,\u001b[0m \u001b[0mfetches\u001b[0m\u001b[0;34m)\u001b[0m\u001b[0;34m\u001b[0m\u001b[0m\n",
      "\u001b[0;32m~/anaconda3/envs/py36/lib/python3.6/site-packages/tensorflow/python/client/session.py\u001b[0m in \u001b[0;36m_do_call\u001b[0;34m(self, fn, *args)\u001b[0m\n\u001b[1;32m   1348\u001b[0m   \u001b[0;32mdef\u001b[0m \u001b[0m_do_call\u001b[0m\u001b[0;34m(\u001b[0m\u001b[0mself\u001b[0m\u001b[0;34m,\u001b[0m \u001b[0mfn\u001b[0m\u001b[0;34m,\u001b[0m \u001b[0;34m*\u001b[0m\u001b[0margs\u001b[0m\u001b[0;34m)\u001b[0m\u001b[0;34m:\u001b[0m\u001b[0;34m\u001b[0m\u001b[0m\n\u001b[1;32m   1349\u001b[0m     \u001b[0;32mtry\u001b[0m\u001b[0;34m:\u001b[0m\u001b[0;34m\u001b[0m\u001b[0m\n\u001b[0;32m-> 1350\u001b[0;31m       \u001b[0;32mreturn\u001b[0m \u001b[0mfn\u001b[0m\u001b[0;34m(\u001b[0m\u001b[0;34m*\u001b[0m\u001b[0margs\u001b[0m\u001b[0;34m)\u001b[0m\u001b[0;34m\u001b[0m\u001b[0m\n\u001b[0m\u001b[1;32m   1351\u001b[0m     \u001b[0;32mexcept\u001b[0m \u001b[0merrors\u001b[0m\u001b[0;34m.\u001b[0m\u001b[0mOpError\u001b[0m \u001b[0;32mas\u001b[0m \u001b[0me\u001b[0m\u001b[0;34m:\u001b[0m\u001b[0;34m\u001b[0m\u001b[0m\n\u001b[1;32m   1352\u001b[0m       \u001b[0mmessage\u001b[0m \u001b[0;34m=\u001b[0m \u001b[0mcompat\u001b[0m\u001b[0;34m.\u001b[0m\u001b[0mas_text\u001b[0m\u001b[0;34m(\u001b[0m\u001b[0me\u001b[0m\u001b[0;34m.\u001b[0m\u001b[0mmessage\u001b[0m\u001b[0;34m)\u001b[0m\u001b[0;34m\u001b[0m\u001b[0m\n",
      "\u001b[0;32m~/anaconda3/envs/py36/lib/python3.6/site-packages/tensorflow/python/client/session.py\u001b[0m in \u001b[0;36m_run_fn\u001b[0;34m(session, feed_dict, fetch_list, target_list, options, run_metadata)\u001b[0m\n\u001b[1;32m   1327\u001b[0m           return tf_session.TF_Run(session, options,\n\u001b[1;32m   1328\u001b[0m                                    \u001b[0mfeed_dict\u001b[0m\u001b[0;34m,\u001b[0m \u001b[0mfetch_list\u001b[0m\u001b[0;34m,\u001b[0m \u001b[0mtarget_list\u001b[0m\u001b[0;34m,\u001b[0m\u001b[0;34m\u001b[0m\u001b[0m\n\u001b[0;32m-> 1329\u001b[0;31m                                    status, run_metadata)\n\u001b[0m\u001b[1;32m   1330\u001b[0m \u001b[0;34m\u001b[0m\u001b[0m\n\u001b[1;32m   1331\u001b[0m     \u001b[0;32mdef\u001b[0m \u001b[0m_prun_fn\u001b[0m\u001b[0;34m(\u001b[0m\u001b[0msession\u001b[0m\u001b[0;34m,\u001b[0m \u001b[0mhandle\u001b[0m\u001b[0;34m,\u001b[0m \u001b[0mfeed_dict\u001b[0m\u001b[0;34m,\u001b[0m \u001b[0mfetch_list\u001b[0m\u001b[0;34m)\u001b[0m\u001b[0;34m:\u001b[0m\u001b[0;34m\u001b[0m\u001b[0m\n",
      "\u001b[0;31mKeyboardInterrupt\u001b[0m: "
     ]
    }
   ],
   "source": [
    "n_epochs = 50\n",
    "batch_size = 50\n",
    "\n",
    "with tf.Session() as sess:\n",
    "    init.run()\n",
    "    for epoch in range(n_epochs):\n",
    "        for x_batch, y_batch in shuffle_batch(x_train, y_train, batch_size):\n",
    "            sess.run(train_op, feed_dict={X:x_batch, Y: y_batch})\n",
    "            \n",
    "        acc_batch = acc.eval(feed_dict={X:x_batch, Y:y_batch})\n",
    "        acc_val = acc.eval(feed_dict={X:x_validation, Y:y_validation})\n",
    "        print(epoch, \"Batch acc:\", acc_batch, \"Val acc:\", acc_val)"
   ]
  },
  {
   "cell_type": "code",
   "execution_count": null,
   "metadata": {},
   "outputs": [],
   "source": []
  }
 ],
 "metadata": {
  "kernelspec": {
   "display_name": "Python [conda env:py36]",
   "language": "python",
   "name": "conda-env-py36-py"
  },
  "language_info": {
   "codemirror_mode": {
    "name": "ipython",
    "version": 3
   },
   "file_extension": ".py",
   "mimetype": "text/x-python",
   "name": "python",
   "nbconvert_exporter": "python",
   "pygments_lexer": "ipython3",
   "version": "3.6.4"
  }
 },
 "nbformat": 4,
 "nbformat_minor": 2
}
