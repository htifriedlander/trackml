{
 "cells": [
  {
   "cell_type": "code",
   "execution_count": null,
   "metadata": {
    "collapsed": true,
    "nbpresent": {
     "id": "2bb17266-93f1-4c7f-bc13-9f8f87a006c4"
    }
   },
   "outputs": [],
   "source": [
    "# problem 1\n",
    "sum = 0\n",
    "for x in range(1000):\n",
    "    if x % 3 == 0 or x % 5 == 0:\n",
    "        sum += x\n",
    "print(sum)"
   ]
  },
  {
   "cell_type": "code",
   "execution_count": null,
   "metadata": {
    "collapsed": true,
    "nbpresent": {
     "id": "388ac3fd-e3fe-401d-a03b-81dedaf360b5"
    }
   },
   "outputs": [],
   "source": [
    "# problem 2\n",
    "x = 1\n",
    "y = 1\n",
    "z = 0\n",
    "brandon = 0\n",
    "\n",
    "while z < 4000000:\n",
    "    z= x + y\n",
    "    if z % 2 == 0:\n",
    "        brandon = brandon + z\n",
    "    \n",
    "    x = y\n",
    "    y = z\n",
    "print(brandon)"
   ]
  },
  {
   "cell_type": "code",
   "execution_count": 2,
   "metadata": {
    "collapsed": true,
    "nbpresent": {
     "id": "c7b821c9-ef13-4d35-8ad3-b403be28609e"
    }
   },
   "outputs": [],
   "source": [
    "#problem 3\n",
    "def findPrime(num):\n",
    "    x = num-1\n",
    "    isgood = False\n",
    "    for i in range(x, 0 ,-1):\n",
    "        print(\"i: \"+str(i))\n",
    "        if num % i == 0:\n",
    "            isgood = True\n",
    "            for y in range(i-1, 1 , -1):\n",
    "                print(\"y: \"+str(y))\n",
    "                if i % y == 0:\n",
    "                    print(\"y val: \"+str(y))\n",
    "                    isgood = False\n",
    "                    break\n",
    "                    \n",
    "        if isgood:\n",
    "            return i\n",
    "\n",
    "            \n",
    "\n",
    "            \n",
    "            \n",
    "\n",
    "    \n"
   ]
  },
  {
   "cell_type": "code",
   "execution_count": 3,
   "metadata": {
    "nbpresent": {
     "id": "f0c6ea3b-ba74-45c1-8a39-5f049ebc9345"
    }
   },
   "outputs": [
    {
     "name": "stdout",
     "output_type": "stream",
     "text": [
      "i: 49\n",
      "i: 48\n",
      "i: 47\n",
      "i: 46\n",
      "i: 45\n",
      "i: 44\n",
      "i: 43\n",
      "i: 42\n",
      "i: 41\n",
      "i: 40\n",
      "i: 39\n",
      "i: 38\n",
      "i: 37\n",
      "i: 36\n",
      "i: 35\n",
      "i: 34\n",
      "i: 33\n",
      "i: 32\n",
      "i: 31\n",
      "i: 30\n",
      "i: 29\n",
      "i: 28\n",
      "i: 27\n",
      "i: 26\n",
      "i: 25\n",
      "y: 24\n",
      "y: 23\n",
      "y: 22\n",
      "y: 21\n",
      "y: 20\n",
      "y: 19\n",
      "y: 18\n",
      "y: 17\n",
      "y: 16\n",
      "y: 15\n",
      "y: 14\n",
      "y: 13\n",
      "y: 12\n",
      "y: 11\n",
      "y: 10\n",
      "y: 9\n",
      "y: 8\n",
      "y: 7\n",
      "y: 6\n",
      "y: 5\n",
      "y val: 5\n",
      "i: 24\n",
      "i: 23\n",
      "i: 22\n",
      "i: 21\n",
      "i: 20\n",
      "i: 19\n",
      "i: 18\n",
      "i: 17\n",
      "i: 16\n",
      "i: 15\n",
      "i: 14\n",
      "i: 13\n",
      "i: 12\n",
      "i: 11\n",
      "i: 10\n",
      "y: 9\n",
      "y: 8\n",
      "y: 7\n",
      "y: 6\n",
      "y: 5\n",
      "y val: 5\n",
      "i: 9\n",
      "i: 8\n",
      "i: 7\n",
      "i: 6\n",
      "i: 5\n",
      "y: 4\n",
      "y: 3\n",
      "y: 2\n"
     ]
    },
    {
     "data": {
      "text/plain": [
       "5"
      ]
     },
     "execution_count": 3,
     "metadata": {},
     "output_type": "execute_result"
    }
   ],
   "source": [
    "findPrime(50)"
   ]
  },
  {
   "cell_type": "code",
   "execution_count": null,
   "metadata": {
    "collapsed": true,
    "nbpresent": {
     "id": "26dc9c80-653f-4e64-baf0-3b7897947314"
    }
   },
   "outputs": [],
   "source": [
    "import math\n",
    "\n",
    "def sieve(n):\n",
    "    a = [True] * n\n",
    "    i = 2\n",
    "    for i in range(2, n):\n",
    "        if a[i] == True:\n",
    "            for j in range(2, n, i):\n",
    "                a[j] = False\n",
    "    for index, value in enumerate(a):\n",
    "        if a[index] is True:\n",
    "            print(index)"
   ]
  },
  {
   "cell_type": "code",
   "execution_count": null,
   "metadata": {},
   "outputs": [],
   "source": [
    "sieve(30)"
   ]
  },
  {
   "cell_type": "code",
   "execution_count": null,
   "metadata": {},
   "outputs": [],
   "source": [
    "n = 600851475143\n",
    "i = 2\n",
    "while i * i < n:\n",
    "    while n % i == 0:\n",
    "        n = n / i\n",
    "    i = i + 1\n",
    "print(n)"
   ]
  },
  {
   "cell_type": "code",
   "execution_count": null,
   "metadata": {
    "collapsed": true
   },
   "outputs": [],
   "source": [
    "count = 0\n",
    "num = 1\n",
    "while count < 10001\n",
    "    "
   ]
  }
 ],
 "metadata": {
  "kernelspec": {
   "display_name": "Python [conda env:py36]",
   "language": "python",
   "name": "conda-env-py36-py"
  },
  "language_info": {
   "codemirror_mode": {
    "name": "ipython",
    "version": 3
   },
   "file_extension": ".py",
   "mimetype": "text/x-python",
   "name": "python",
   "nbconvert_exporter": "python",
   "pygments_lexer": "ipython3",
   "version": "3.6.4"
  },
  "nbpresent": {
   "slides": {},
   "themes": {
    "default": "7ec24f63-058a-48ef-9499-5a4ba00bb87e",
    "theme": {
     "7ec24f63-058a-48ef-9499-5a4ba00bb87e": {
      "backgrounds": {
       "dc7afa04-bf90-40b1-82a5-726e3cff5267": {
        "background-color": "31af15d2-7e15-44c5-ab5e-e04b16a89eff",
        "id": "dc7afa04-bf90-40b1-82a5-726e3cff5267"
       }
      },
      "id": "7ec24f63-058a-48ef-9499-5a4ba00bb87e",
      "palette": {
       "19cc588f-0593-49c9-9f4b-e4d7cc113b1c": {
        "id": "19cc588f-0593-49c9-9f4b-e4d7cc113b1c",
        "rgb": [
         252,
         252,
         252
        ]
       },
       "31af15d2-7e15-44c5-ab5e-e04b16a89eff": {
        "id": "31af15d2-7e15-44c5-ab5e-e04b16a89eff",
        "rgb": [
         68,
         68,
         68
        ]
       },
       "50f92c45-a630-455b-aec3-788680ec7410": {
        "id": "50f92c45-a630-455b-aec3-788680ec7410",
        "rgb": [
         197,
         226,
         245
        ]
       },
       "c5cc3653-2ee1-402a-aba2-7caae1da4f6c": {
        "id": "c5cc3653-2ee1-402a-aba2-7caae1da4f6c",
        "rgb": [
         43,
         126,
         184
        ]
       },
       "efa7f048-9acb-414c-8b04-a26811511a21": {
        "id": "efa7f048-9acb-414c-8b04-a26811511a21",
        "rgb": [
         25.118061674008803,
         73.60176211453744,
         107.4819383259912
        ]
       }
      },
      "rules": {
       "a": {
        "color": "19cc588f-0593-49c9-9f4b-e4d7cc113b1c"
       },
       "blockquote": {
        "color": "50f92c45-a630-455b-aec3-788680ec7410",
        "font-size": 3
       },
       "code": {
        "font-family": "Anonymous Pro"
       },
       "h1": {
        "color": "19cc588f-0593-49c9-9f4b-e4d7cc113b1c",
        "font-family": "Merriweather",
        "font-size": 8
       },
       "h2": {
        "color": "19cc588f-0593-49c9-9f4b-e4d7cc113b1c",
        "font-family": "Merriweather",
        "font-size": 6
       },
       "h3": {
        "color": "50f92c45-a630-455b-aec3-788680ec7410",
        "font-family": "Lato",
        "font-size": 5.5
       },
       "h4": {
        "color": "c5cc3653-2ee1-402a-aba2-7caae1da4f6c",
        "font-family": "Lato",
        "font-size": 5
       },
       "h5": {
        "font-family": "Lato"
       },
       "h6": {
        "font-family": "Lato"
       },
       "h7": {
        "font-family": "Lato"
       },
       "li": {
        "color": "50f92c45-a630-455b-aec3-788680ec7410",
        "font-size": 3.25
       },
       "pre": {
        "font-family": "Anonymous Pro",
        "font-size": 4
       }
      },
      "text-base": {
       "color": "19cc588f-0593-49c9-9f4b-e4d7cc113b1c",
       "font-family": "Lato",
       "font-size": 4
      }
     }
    }
   }
  }
 },
 "nbformat": 4,
 "nbformat_minor": 2
}
