{
 "cells": [
  {
   "cell_type": "code",
   "execution_count": 1,
   "metadata": {},
   "outputs": [],
   "source": [
    "%run utils.ipynb"
   ]
  },
  {
   "cell_type": "code",
   "execution_count": null,
   "metadata": {},
   "outputs": [],
   "source": []
  },
  {
   "cell_type": "code",
   "execution_count": null,
   "metadata": {},
   "outputs": [],
   "source": [
    "def is_cylinder (volume_id, layer_id):\n",
    "    return (((volume_id == 8 or volume_id == 13) and layer_id in [2,4,6,8])\n",
    "           or (volume_id == 17 and layer_id in [2,4]))"
   ]
  },
  {
   "cell_type": "code",
   "execution_count": 28,
   "metadata": {},
   "outputs": [],
   "source": [
    "def layer_number (volume_id, layer_id):\n",
    "    assert (volume_id in [8, 13, 17]), \"This volume_id is not in a cylinder!\"\n",
    "    assert (((volume_id == 8 or volume_id == 13) and layer_id in [2,4,6,8])\n",
    "           or (volume_id == 17 and layer_id in [2,4])), \"This layer_id is not in this volume_id\"\n",
    "    diction = {(8,2):1, (8,4):2, (8,6):3, (8,8):4, (13,2):5, (13,4):6, (13,6):7, (13,8):8, (17,2):9, (17,4):10}\n",
    "    return diction[(volume_id, layer_id)]"
   ]
  },
  {
   "cell_type": "code",
   "execution_count": null,
   "metadata": {},
   "outputs": [],
   "source": [
    "hits, cells, particles, truth_df = load_data_single_event(1000)"
   ]
  },
  {
   "cell_type": "code",
   "execution_count": null,
   "metadata": {},
   "outputs": [],
   "source": [
    "hits.head()"
   ]
  },
  {
   "cell_type": "code",
   "execution_count": null,
   "metadata": {},
   "outputs": [],
   "source": [
    "a = gen_tracks(truth)"
   ]
  },
  {
   "cell_type": "code",
   "execution_count": null,
   "metadata": {},
   "outputs": [],
   "source": [
    "truth_df['dist'] = np.sqrt(truth_df['tx']**2+truth_df['ty']**2+truth_df['tz']**2)\n",
    "grouped = truth_df.groupby('particle_id')['hit_id','dist']"
   ]
  },
  {
   "cell_type": "code",
   "execution_count": null,
   "metadata": {},
   "outputs": [],
   "source": [
    "b = grouped.apply(lambda:)"
   ]
  },
  {
   "cell_type": "code",
   "execution_count": null,
   "metadata": {},
   "outputs": [],
   "source": [
    "merge_by_hit_ids = hits.merge(truth, how = 'inner', on = 'hit_id')\n",
    "column_vals = list(merge_by_hit_ids.columns)"
   ]
  },
  {
   "cell_type": "code",
   "execution_count": null,
   "metadata": {},
   "outputs": [],
   "source": [
    "test = merge_by_hit_ids.head(100000)"
   ]
  },
  {
   "cell_type": "code",
   "execution_count": 2,
   "metadata": {},
   "outputs": [],
   "source": [
    "def get_cylinder_hits(hit_dataframe, truth_dataframe):\n",
    "    volume_layer_list = [(8,2),(8,4),(8,6),(8,8),(13,2),(13,4),(13,6),(13,8),(17,2),(17,4)]\n",
    "    temp = [] \n",
    "    merge_by_hit_ids = hit_dataframe.merge(truth_dataframe, how = 'inner', on ='hit_id')\n",
    "    for pair in volume_layer_list:\n",
    "        volume, layer = pair\n",
    "        test_data = merge_by_hit_ids[(merge_by_hit_ids['volume_id'].values == volume) & (merge_by_hit_ids['layer_id'].values == layer)]\n",
    "        temp.append(test_data)\n",
    "    return pd.concat(temp)    "
   ]
  },
  {
   "cell_type": "code",
   "execution_count": null,
   "metadata": {},
   "outputs": [],
   "source": [
    "def cylinder_batch(max_seq_len, batch_size, feature_len, full_tracks = False):\n",
    "    all_data = load_dataset('data/train_sample', parts=['hits', 'truth'])\n",
    "    for data in all_data:\n",
    "        hit_df, truth_df = data[1], data[2]\n",
    "        hit_and_truth = get_cylinder_hits(hit_df, truth_df)\n",
    "        prelim_tracks = gen_tracks(hit_and_truth, hit_and_truth)\n",
    "        yield prelim_tracks\n",
    "        "
   ]
  },
  {
   "cell_type": "code",
   "execution_count": 4,
   "metadata": {},
   "outputs": [],
   "source": [
    "hits, cells, particles, truth_df = load_data_single_event(1000)\n",
    "hit_and_truth = get_cylinder_hits(hits,truth_df)\n",
    "prelim_tracks = gen_tracks(hit_and_truth)"
   ]
  },
  {
   "cell_type": "code",
   "execution_count": 11,
   "metadata": {},
   "outputs": [],
   "source": [
    "info = prelim_tracks.values"
   ]
  },
  {
   "cell_type": "code",
   "execution_count": 24,
   "metadata": {},
   "outputs": [],
   "source": [
    "count = 0\n",
    "rows_to_remove = []\n",
    "for row, track in enumerate(info):\n",
    "    if len(track) is not 10:\n",
    "        rows_to_remove.append(row)\n",
    "\n",
    "result = np.delete(info,rows_to_remove)\n",
    "    \n"
   ]
  },
  {
   "cell_type": "code",
   "execution_count": 62,
   "metadata": {},
   "outputs": [],
   "source": [
    "count = 0\n",
    "bad_rows = []\n",
    "for idx, track in enumerate(result):\n",
    "    compare = [x for x in range(1,11)]\n",
    "    layer_nums = []\n",
    "    \n",
    "    for hit in track:\n",
    "        volum_id = hits.loc[hits['hit_id']==hit]['volume_id'].item()\n",
    "        layer_id = hits.loc[hits['hit_id']==hit]['layer_id'].item()\n",
    "        layer_nums.append(layer_number(volum_id, layer_id))\n",
    "    if layer_nums != compare:\n",
    "        bad_rows.append(idx)\n",
    "ideal_tracks = np.delete(result,bad_rows)\n"
   ]
  },
  {
   "cell_type": "code",
   "execution_count": 66,
   "metadata": {},
   "outputs": [
    {
     "data": {
      "text/plain": [
       "593"
      ]
     },
     "execution_count": 66,
     "metadata": {},
     "output_type": "execute_result"
    }
   ],
   "source": [
    "len(result)"
   ]
  },
  {
   "cell_type": "code",
   "execution_count": null,
   "metadata": {},
   "outputs": [],
   "source": []
  }
 ],
 "metadata": {
  "kernelspec": {
   "display_name": "Python [conda env:py36]",
   "language": "python",
   "name": "conda-env-py36-py"
  },
  "language_info": {
   "codemirror_mode": {
    "name": "ipython",
    "version": 3
   },
   "file_extension": ".py",
   "mimetype": "text/x-python",
   "name": "python",
   "nbconvert_exporter": "python",
   "pygments_lexer": "ipython3",
   "version": "3.6.4"
  }
 },
 "nbformat": 4,
 "nbformat_minor": 2
}
