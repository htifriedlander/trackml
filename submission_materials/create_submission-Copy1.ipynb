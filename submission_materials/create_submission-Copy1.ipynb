{
 "cells": [
  {
   "cell_type": "code",
   "execution_count": 1,
   "metadata": {},
   "outputs": [],
   "source": [
    "import pandas as pd\n",
    "from trackml.dataset import load_event\n",
    "from trackml.dataset import load_dataset\n",
    "from trackml.randomize import shuffle_hits\n",
    "from trackml.score import score_event \n",
    "%run utils.ipynb\n",
    "import time"
   ]
  },
  {
   "cell_type": "code",
   "execution_count": null,
   "metadata": {},
   "outputs": [],
   "source": [
    "df = pd.read_csv('sample_submission.csv')"
   ]
  },
  {
   "cell_type": "code",
   "execution_count": null,
   "metadata": {},
   "outputs": [],
   "source": [
    "df.head(10)"
   ]
  },
  {
   "cell_type": "code",
   "execution_count": null,
   "metadata": {},
   "outputs": [],
   "source": [
    "%ls data/test_data"
   ]
  },
  {
   "cell_type": "code",
   "execution_count": null,
   "metadata": {},
   "outputs": [],
   "source": [
    "itr =  load_dataset('data/test_data', parts=['hits','cells'])\n",
    "    "
   ]
  },
  {
   "cell_type": "code",
   "execution_count": null,
   "metadata": {},
   "outputs": [],
   "source": []
  },
  {
   "cell_type": "code",
   "execution_count": null,
   "metadata": {},
   "outputs": [],
   "source": [
    "event_id, hits, cells = next(itr)"
   ]
  },
  {
   "cell_type": "code",
   "execution_count": null,
   "metadata": {},
   "outputs": [],
   "source": [
    "hits.head()"
   ]
  },
  {
   "cell_type": "raw",
   "metadata": {},
   "source": [
    "NUM_SEEDS = 200\n",
    "track_candidates = np.random.rand(NUM_SEEDS, 10,3)\n",
    "test_hit_ids = np.random.randint(1,size=(NUM_SEEDS,10,1),high=10000)\n",
    "test_mses = np.random.rand(NUM_SEEDS,10,1)\n",
    "track_mapping = np.concatenate((test_mses,test_hit_ids), axis=2 )"
   ]
  },
  {
   "cell_type": "code",
   "execution_count": 2,
   "metadata": {},
   "outputs": [],
   "source": [
    "def remove_disk_hits(hits_df):\n",
    "    hits_df['is_cylinder'] = hits_df.apply(lambda x: is_cylinder(x['volume_id'], x['layer_id']), axis = 1)\n",
    "    \n",
    "    return hits_df[hits_df.is_cylinder == True], hits_df[hits_df.is_cylinder == False]\n",
    "\n",
    "\n",
    "\"\"\"\n",
    "inputs\n",
    "\n",
    "track_candidates: tensor of shape [num_seeds x 10 x 3] 3 for r,phi,z\n",
    "\n",
    "track_candidates_map: tensor of shape [num_seeds x 10 x 2] 2 for mse, hit_ids\n",
    "\n",
    "\"\"\"\n",
    "\n",
    "def prune(track_candidates, track_candidates_map, hits_df, event_id):\n",
    "    start = time.time()\n",
    "    cyl_only_hits, non_cyl_hits = remove_disk_hits(hits_df)\n",
    "    \n",
    "    bad_hit_ids = non_cyl_hits['hit_id'].values\n",
    "    dummy_track_id = np.zeros(bad_hit_ids.shape, dtype=np.int32)\n",
    "    event_ids = np.full(bad_hit_ids.shape, event_id, dtype=np.int32)\n",
    "    \n",
    "    ignored_tracks = pd.DataFrame({'event_id':event_ids, 'hit_id':bad_hit_ids, 'track_id':dummy_track_id})\n",
    "    \n",
    "    cyl_only_hits['assigned'] = False\n",
    "    cyl_only_hits['track_id'] = np.nan\n",
    "    track_id = 1\n",
    "    \n",
    "    out = np.take(track_candidates_map,[0], axis=2) # grab mse per hit per track\n",
    "    track_mses = np.sum(out,axis=1) #calc mse per track\n",
    "    sorted_idxs=np.argsort(track_mses, axis = 0)\n",
    "    #flat_idxs = sorted_idxs.flatten()\n",
    "    sorted_tracks = track_candidates[sorted_idxs]\n",
    "    sorted_track_mapping = track_candidates_map[sorted_idxs]\n",
    "\n",
    "    for batchIdx, batch in enumerate(sorted_tracks):\n",
    "        for trackIdx, track in enumerate(batch):\n",
    "            temp_hit_ids = []\n",
    "            valid_track = True\n",
    "\n",
    "            for hitIdx, hit in enumerate(track): \n",
    "                #print(hit)\n",
    "                hit_id = sorted_track_mapping[batchIdx][trackIdx][hitIdx][1]\n",
    "                temp_hit_ids.append(hit_id)\n",
    "\n",
    "            for hit_id in temp_hit_ids:\n",
    "                if cyl_only_hits.loc[cyl_only_hits['hit_id']==hit_id]['assigned'] is True:\n",
    "                    valid_track = False\n",
    "                    break\n",
    "\n",
    "            if valid_track:\n",
    "                for hit_id in temp_hit_ids:\n",
    "                    cyl_only_hits.loc[cyl_only_hits['hit_id']==hit_id, 'assigned'] = True\n",
    "                    \n",
    "                    \n",
    "                    #idx = cyl_only_hits.loc[cyl_only_hits['hit_id']==hit_id].index\n",
    "                    #print('idx is: ',idx)\n",
    "                    cyl_only_hits.loc[cyl_only_hits['hit_id']==hit_id,'track_id'] = track_id\n",
    "                    #cyl_only_hits.at[idx,'assigned'] = track_id\n",
    "                    #df.at['C', 'x'] = 10\n",
    "                    \n",
    "                track_id +=1\n",
    "    \n",
    "    dropped_df = cyl_only_hits.drop(['x','y','z','volume_id','layer_id','module_id','is_cylinder','module_id'],axis=1)\n",
    "    \n",
    "   \n",
    "    final_results = dropped_df.fillna(0, downcast={np.float32,np.int32})     \n",
    "        \n",
    "    \n",
    "    \n",
    "    \n",
    "    print('elasped time: '+str(time.time()-start))\n",
    "    return ignored_tracks, final_results\n",
    "\n",
    "    \n",
    "    \n"
   ]
  },
  {
   "cell_type": "code",
   "execution_count": 3,
   "metadata": {},
   "outputs": [],
   "source": [
    "mapping = np.load('./mse_hitid.npy')\n",
    "track_cand = np.load('./hits_from_tracks.npy')"
   ]
  },
  {
   "cell_type": "code",
   "execution_count": 5,
   "metadata": {},
   "outputs": [],
   "source": [
    "m_slice = mapping[:10]\n",
    "track_slice = track_cand[:10]"
   ]
  },
  {
   "cell_type": "code",
   "execution_count": 7,
   "metadata": {},
   "outputs": [
    {
     "data": {
      "text/plain": [
       "array([[[0.00000000e+00, 1.63080000e+04],\n",
       "        [0.00000000e+00, 2.42910000e+04],\n",
       "        [0.00000000e+00, 3.06020000e+04],\n",
       "        [1.17194073e+03, 3.66910000e+04],\n",
       "        [8.91501026e+02, 6.62900000e+04],\n",
       "        [5.44395213e+01, 7.24370000e+04],\n",
       "        [8.22152534e+02, 7.84130000e+04],\n",
       "        [1.60521265e+04, 6.42130000e+04],\n",
       "        [7.04548314e+03, 9.85500000e+04],\n",
       "        [9.89070871e+03, 9.81160000e+04]],\n",
       "\n",
       "       [[0.00000000e+00, 1.63440000e+04],\n",
       "        [0.00000000e+00, 2.43020000e+04],\n",
       "        [0.00000000e+00, 3.06050000e+04],\n",
       "        [6.90764819e+02, 3.66910000e+04],\n",
       "        [1.33385688e+03, 6.62940000e+04],\n",
       "        [3.16603324e+02, 7.24430000e+04],\n",
       "        [3.06423993e+02, 7.84180000e+04],\n",
       "        [1.72228900e+04, 6.29950000e+04],\n",
       "        [2.81504912e+03, 9.81440000e+04],\n",
       "        [9.33109259e+03, 9.77370000e+04]],\n",
       "\n",
       "       [[0.00000000e+00, 1.63900000e+04],\n",
       "        [0.00000000e+00, 2.43450000e+04],\n",
       "        [0.00000000e+00, 3.06340000e+04],\n",
       "        [1.23671562e+02, 3.67390000e+04],\n",
       "        [9.93203803e+01, 6.63450000e+04],\n",
       "        [4.49249974e+02, 7.26900000e+04],\n",
       "        [3.95746205e+01, 7.84440000e+04],\n",
       "        [3.86716904e+03, 6.44900000e+04],\n",
       "        [1.45309050e+03, 9.86380000e+04],\n",
       "        [2.02544790e+04, 9.81800000e+04]],\n",
       "\n",
       "       [[0.00000000e+00, 1.65550000e+04],\n",
       "        [0.00000000e+00, 2.44120000e+04],\n",
       "        [0.00000000e+00, 3.06950000e+04],\n",
       "        [3.68830255e+02, 3.68080000e+04],\n",
       "        [4.37438508e+02, 6.64190000e+04],\n",
       "        [3.42033203e+02, 7.27540000e+04],\n",
       "        [5.38793985e+01, 7.86920000e+04],\n",
       "        [2.87185723e+03, 6.48040000e+04],\n",
       "        [2.96736849e+03, 9.87260000e+04],\n",
       "        [1.17836608e+04, 9.82620000e+04]],\n",
       "\n",
       "       [[0.00000000e+00, 1.65890000e+04],\n",
       "        [0.00000000e+00, 2.44140000e+04],\n",
       "        [0.00000000e+00, 3.06930000e+04],\n",
       "        [4.95497921e+02, 3.68210000e+04],\n",
       "        [4.71783213e+01, 6.64240000e+04],\n",
       "        [5.31752720e+02, 7.27660000e+04],\n",
       "        [9.96822105e+02, 7.86950000e+04],\n",
       "        [1.10356576e+03, 6.48540000e+04],\n",
       "        [7.33878140e+02, 9.87650000e+04],\n",
       "        [5.20472551e+03, 9.82780000e+04]],\n",
       "\n",
       "       [[0.00000000e+00, 1.65890000e+04],\n",
       "        [0.00000000e+00, 2.44220000e+04],\n",
       "        [0.00000000e+00, 3.06930000e+04],\n",
       "        [5.21746144e+02, 3.68210000e+04],\n",
       "        [4.07399226e+01, 6.64240000e+04],\n",
       "        [5.40030790e+02, 7.27660000e+04],\n",
       "        [9.83042251e+02, 7.86950000e+04],\n",
       "        [1.03146399e+03, 6.48540000e+04],\n",
       "        [6.07904488e+02, 9.87650000e+04],\n",
       "        [4.98322654e+03, 9.82780000e+04]],\n",
       "\n",
       "       [[0.00000000e+00, 1.67990000e+04],\n",
       "        [0.00000000e+00, 2.45200000e+04],\n",
       "        [0.00000000e+00, 3.07720000e+04],\n",
       "        [9.25688218e+02, 3.69190000e+04],\n",
       "        [1.81317811e+02, 6.65200000e+04],\n",
       "        [2.18440759e+02, 7.26260000e+04],\n",
       "        [4.18009844e+01, 7.85670000e+04],\n",
       "        [1.12650148e+04, 6.54010000e+04],\n",
       "        [5.43485497e+03, 9.89650000e+04],\n",
       "        [4.92019648e+03, 9.84750000e+04]],\n",
       "\n",
       "       [[0.00000000e+00, 1.68140000e+04],\n",
       "        [0.00000000e+00, 2.45580000e+04],\n",
       "        [0.00000000e+00, 3.07950000e+04],\n",
       "        [4.06934291e+02, 3.69440000e+04],\n",
       "        [2.13286492e+02, 6.65400000e+04],\n",
       "        [4.60575541e+02, 7.26460000e+04],\n",
       "        [1.52395767e+02, 7.84060000e+04],\n",
       "        [2.99553325e+03, 6.41540000e+04],\n",
       "        [1.81316328e+03, 9.85380000e+04],\n",
       "        [1.08290616e+04, 9.81040000e+04]],\n",
       "\n",
       "       [[0.00000000e+00, 1.68140000e+04],\n",
       "        [0.00000000e+00, 2.45630000e+04],\n",
       "        [0.00000000e+00, 3.07950000e+04],\n",
       "        [4.71966762e+02, 3.69440000e+04],\n",
       "        [2.23697902e+02, 6.65400000e+04],\n",
       "        [4.75975574e+02, 7.26460000e+04],\n",
       "        [1.82840387e+02, 7.84060000e+04],\n",
       "        [2.86211745e+03, 6.41540000e+04],\n",
       "        [1.68794255e+03, 9.85380000e+04],\n",
       "        [1.07361839e+04, 9.81040000e+04]],\n",
       "\n",
       "       [[0.00000000e+00, 1.68160000e+04],\n",
       "        [0.00000000e+00, 2.45340000e+04],\n",
       "        [0.00000000e+00, 3.05860000e+04],\n",
       "        [5.65914767e+01, 3.69350000e+04],\n",
       "        [8.16995100e+02, 6.64490000e+04],\n",
       "        [3.12678631e+01, 7.26090000e+04],\n",
       "        [2.91117705e+02, 7.87740000e+04],\n",
       "        [3.68585871e+03, 8.44750000e+04],\n",
       "        [1.49408949e+04, 9.86210000e+04],\n",
       "        [3.75250938e+04, 9.83080000e+04]]])"
      ]
     },
     "execution_count": 7,
     "metadata": {},
     "output_type": "execute_result"
    }
   ],
   "source": [
    "m_slice"
   ]
  },
  {
   "cell_type": "code",
   "execution_count": null,
   "metadata": {},
   "outputs": [],
   "source": [
    "m_slize[:]"
   ]
  },
  {
   "cell_type": "code",
   "execution_count": null,
   "metadata": {},
   "outputs": [],
   "source": [
    "((9/10)*16517)/(3600)"
   ]
  },
  {
   "cell_type": "code",
   "execution_count": null,
   "metadata": {},
   "outputs": [],
   "source": [
    "track_slice.shape"
   ]
  },
  {
   "cell_type": "code",
   "execution_count": null,
   "metadata": {},
   "outputs": [],
   "source": [
    "mapping = np.load('./mse_hitid.npy')\n",
    "track_cand = np.load('./hits_from_tracks.npy')\n",
    "hits, _, _,_ = load_data_single_event(1050)\n",
    " \n",
    "start = time.time()\n",
    "bad_results, results = prune(track_slice, m_slice, hits, 1050)\n",
    "print('total time: ', time.time()-start)"
   ]
  },
  {
   "cell_type": "code",
   "execution_count": null,
   "metadata": {},
   "outputs": [],
   "source": [
    "\"\"\"\n",
    "\n",
    "\n",
    "out = np.take(track_mapping,[0], axis=2) # grab mse per hit per track\n",
    "track_mses = np.sum(out,axis=1) #calc mse per track\n",
    "\n",
    "sorted_idxs=np.argsort(track_mses, axis = 0)\n",
    "#flat_idxs = sorted_idxs.flatten()\n",
    "sorted_tracks = track_candidates[sorted_idxs]\n",
    "\n",
    "sorted_track_mapping = track_mapping[sorted_idxs]\n",
    "\n",
    "\n",
    "\n",
    "hits_ref = hits #remember to pass the hits_df in!\n",
    "hits_ref['assigned']=False\n",
    "hits_ref['track_id'] = np.nan\n",
    "track_id = 1\n",
    "for batchIdx, batch in enumerate(sorted_tracks):\n",
    "    for trackIdx, track in enumerate(batch):\n",
    "        temp_hit_ids = []\n",
    "        valid_track = True\n",
    "        \n",
    "        for hitIdx, hit in enumerate(track): \n",
    "            #print(hit)\n",
    "            hit_id = sorted_track_mapping[batchIdx][trackIdx][hitIdx][1]\n",
    "            temp_hit_ids.append(hit_id)\n",
    "        \n",
    "        for hit_id in temp_hit_ids:\n",
    "            if hits_ref.loc[hits_ref['hit_id']==hit_id]['assigned'].item() is True:\n",
    "                valid_track = False\n",
    "                break\n",
    "        \n",
    "        \n",
    "        if valid_track:\n",
    "            for hit_id in temp_hit_ids:\n",
    "                hits_ref.loc[hits_ref['hit_id']==hit_id]['assigned'] = True\n",
    "                hits_ref.loc[hits_ref['hit_id']==hit_id]['track_id'] = track_id\n",
    "            track_id +=1\n",
    "            \n",
    "\n",
    "            \n",
    "\"\"\"             \n",
    "            \n",
    "            "
   ]
  },
  {
   "cell_type": "code",
   "execution_count": null,
   "metadata": {},
   "outputs": [],
   "source": []
  }
 ],
 "metadata": {
  "kernelspec": {
   "display_name": "Python [conda env:py36]",
   "language": "python",
   "name": "conda-env-py36-py"
  },
  "language_info": {
   "codemirror_mode": {
    "name": "ipython",
    "version": 3
   },
   "file_extension": ".py",
   "mimetype": "text/x-python",
   "name": "python",
   "nbconvert_exporter": "python",
   "pygments_lexer": "ipython3",
   "version": "3.6.4"
  }
 },
 "nbformat": 4,
 "nbformat_minor": 2
}
