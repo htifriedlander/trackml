{
 "cells": [
  {
   "cell_type": "code",
   "execution_count": 25,
   "metadata": {},
   "outputs": [],
   "source": [
    "import pandas as pd\n",
    "import numpy as np\n",
    "import tensorflow as tf\n",
    "from trackml.dataset import load_event, load_dataset \n",
    "from trackml.randomize import shuffle_hits\n",
    "from trackml.score import score_event \n",
    "import os\n",
    "import math\n",
    "from mpl_toolkits import mplot3d\n",
    "import matplotlib.pyplot as plt\n",
    "import time\n",
    "from multiprocessing import Pool\n",
    "%matplotlib notebook\n",
    "%run utils.ipynb"
   ]
  },
  {
   "cell_type": "code",
   "execution_count": 41,
   "metadata": {},
   "outputs": [],
   "source": [
    "hits, cells, particles, truth = load_data_single_event(1050)\n",
    "hits_from_seeds = np.load('./hits_from_seeds.npy')"
   ]
  },
  {
   "cell_type": "code",
   "execution_count": 27,
   "metadata": {},
   "outputs": [],
   "source": [
    "def predict_next_hit(hits_so_far):\n",
    "    n_steps = len(hits_so_far[0])\n",
    "    n_input_features = 5\n",
    "    n_neurons = 200\n",
    "    n_outputs = 3\n",
    "\n",
    "    X = tf.placeholder(tf.float32, [None, n_steps, n_input_features], name='input')\n",
    "    \n",
    "    lstm = tf.contrib.rnn.LSTMCell(num_units = n_neurons, use_peepholes = True)\n",
    "    lstm_cell = tf.contrib.rnn.OutputProjectionWrapper(lstm, output_size = n_outputs, reuse=tf.AUTO_REUSE)\n",
    "    rnn_outputs, states = tf.nn.dynamic_rnn(lstm_cell, X, dtype = tf.float32)\n",
    "    global_step = tf.Variable(0, dtype=tf.int32, trainable=False, name='global_step')\n",
    "    print_op = tf.Print(rnn_outputs, [rnn_outputs], name='print_pred')\n",
    "    init = tf.global_variables_initializer()\n",
    "    \n",
    "    with tf.Session() as lstm3sess:\n",
    "\n",
    "        init.run()\n",
    "        initial_step = global_step.eval()\n",
    "        saver = tf.train.Saver()\n",
    "        writer = tf.summary.FileWriter('./logs/lstm3', lstm3sess.graph)\n",
    "        ckpt = tf.train.get_checkpoint_state(os.path.dirname('./checkpoints/lstm3/'))\n",
    "        # if that checkpoint exists, restore from checkpoint\n",
    "        if ckpt and ckpt.model_checkpoint_path:\n",
    "            saver.restore(lstm3sess, ckpt.model_checkpoint_path)\n",
    "\n",
    "        x_data = hits_so_far\n",
    "        test_print = lstm3sess.run(print_op, feed_dict={X:x_data})\n",
    "        return [test_print[0][-1][0], test_print[0][-1][1], test_print[0][-1][2]]"
   ]
  },
  {
   "cell_type": "code",
   "execution_count": 112,
   "metadata": {},
   "outputs": [],
   "source": [
    "\"\"\"\n",
    "Encapsulates the NN used for next-hit prediction \n",
    "\"\"\"\n",
    "class predict_engine(): \n",
    "    N_steps = 10\n",
    "    N_INPUT_FEATURES = 5\n",
    "    N_NEURONS = 200\n",
    "    N_OUTPUTS = 3\n",
    "    MODEL_PATH = './checkpoints/baseline-idealv4/-33103.meta'\n",
    "    \n",
    "    def __init__(self):\n",
    "        init = tf.global_variables_initializer()\n",
    "        \n",
    "        infSess = tf.Session() \n",
    "        init.run(session = infSess)\n",
    "            \n",
    "        saver = tf.train.import_meta_graph(self.MODEL_PATH)\n",
    "        graph = saver.restore(infSess,'./checkpoints/baseline-idealv4/-33103' )\n",
    "        #graph = tf.get_default_graph #hopefully this always points to the right one...\n",
    "        predict_op = infSess.graph.get_tensor_by_name(\"print_op:0\")\n",
    "        self.predict_op = predict_op\n",
    "        self.infSess = infSess \n",
    "    \n",
    "    def pred(self, seed):\n",
    "        #print(seed)\n",
    "        pad_zeros = 10 - len(seed)\n",
    "        x_data = np.array([np.pad(seed, ((0, pad_zeros), (0,0)), 'constant')])\n",
    "        #print(x_data.shape)\n",
    "        \n",
    "        inputs = tf.placeholder(tf.float32, [None, 10, 5])\n",
    "        input_tensor = self.infSess.graph.get_tensor_by_name('input_ph:0')\n",
    "        prediction = self.infSess.run(self.predict_op, feed_dict={input_tensor:x_data})\n",
    "        #print('input was: ')\n",
    "        #print(x_data)\n",
    "        #print('\\n')\n",
    "        #print('pred is: ')\n",
    "        #print(prediction)\n",
    "        return prediction\n",
    "    \n",
    "    def close(self):\n",
    "        self.infSess.close()"
   ]
  },
  {
   "cell_type": "code",
   "execution_count": 121,
   "metadata": {},
   "outputs": [
    {
     "name": "stdout",
     "output_type": "stream",
     "text": [
      "INFO:tensorflow:Restoring parameters from ./checkpoints/baseline-idealv4/-33103\n",
      "j:  0\n",
      "j:  1\n",
      "j:  2\n",
      "j:  3\n",
      "j:  4\n",
      "j:  5\n",
      "j:  6\n",
      "j:  0\n",
      "j:  1\n",
      "j:  2\n",
      "j:  3\n",
      "j:  4\n",
      "j:  5\n",
      "j:  6\n",
      "j:  0\n",
      "j:  1\n",
      "j:  2\n",
      "j:  3\n",
      "j:  4\n",
      "j:  5\n",
      "j:  6\n",
      "j:  0\n",
      "j:  1\n",
      "j:  2\n",
      "j:  3\n",
      "j:  4\n",
      "j:  5\n",
      "j:  6\n",
      "j:  0\n",
      "j:  1\n",
      "j:  2\n",
      "j:  3\n",
      "j:  4\n",
      "j:  5\n",
      "j:  6\n",
      "88.5917751789093\n"
     ]
    }
   ],
   "source": [
    "start = time.time()\n",
    "prediction = predict_engine()\n",
    "seeds = next_seed(hits_from_seeds)\n",
    "hits_from_tracks = []\n",
    "mse_hitid = []\n",
    "for i in range(5):\n",
    "    mse_hitid.append([])\n",
    "    feed_seed = next(seeds)[0]\n",
    "    for j in range(7):\n",
    "        print(\"j: \", j)\n",
    "        predicted_hit = prediction.pred(feed_seed)[0][j+2]\n",
    "        predicted_hit_xyz = polar_to_cartesian(predicted_hit[0], predicted_hit[1], predicted_hit[2])\n",
    "        real_hit_id = closestHit(predicted_hit_xyz[0], predicted_hit_xyz[1], predicted_hit_xyz[2], hits)\n",
    "        real_hit = get_xyz(real_hit_id)\n",
    "        l, v, hit_id = get_hit_info(real_hit[0], real_hit[1], real_hit[2]) #change function to take hits df as parameter\n",
    "        mse = distance_between_two_points(real_hit, polar_to_cartesian(predicted_hit[0], predicted_hit[1], predicted_hit[2]))\n",
    "        mse_hitid[i].extend([[mse, real_hit_id]])\n",
    "        test = real_hit.extend([l,v])\n",
    "        reshaped_real_hit = np.asarray(real_hit).reshape(1, 5)\n",
    "        feed_seed = np.append(feed_seed, reshaped_real_hit, axis=0)\n",
    "    hits_from_tracks.append(feed_seed)\n",
    "end = time.time()\n",
    "print(end-start)"
   ]
  },
  {
   "cell_type": "code",
   "execution_count": 118,
   "metadata": {},
   "outputs": [
    {
     "ename": "TypeError",
     "evalue": "list indices must be integers or slices, not tuple",
     "output_type": "error",
     "traceback": [
      "\u001b[0;31m---------------------------------------------------------------------------\u001b[0m",
      "\u001b[0;31mTypeError\u001b[0m                                 Traceback (most recent call last)",
      "\u001b[0;32m<ipython-input-118-d40ab22ab430>\u001b[0m in \u001b[0;36m<module>\u001b[0;34m()\u001b[0m\n\u001b[0;32m----> 1\u001b[0;31m \u001b[0mhits_from_tracks\u001b[0m\u001b[0;34m[\u001b[0m\u001b[0;34m:\u001b[0m\u001b[0;34m]\u001b[0m\u001b[0;34m[\u001b[0m\u001b[0;34m:\u001b[0m\u001b[0;34m,\u001b[0m\u001b[0;36m0\u001b[0m\u001b[0;34m:\u001b[0m\u001b[0;36m3\u001b[0m\u001b[0;34m]\u001b[0m\u001b[0;34m\u001b[0m\u001b[0m\n\u001b[0m",
      "\u001b[0;31mTypeError\u001b[0m: list indices must be integers or slices, not tuple"
     ]
    }
   ],
   "source": [
    "hits_from_tracks[0][:,0:3]"
   ]
  },
  {
   "cell_type": "code",
   "execution_count": 120,
   "metadata": {},
   "outputs": [
    {
     "data": {
      "text/plain": [
       "array([[8.36378107e+00, 4.03760000e+04, 3.30705917e+01, 6.94510000e+04,\n",
       "        5.83602054e+00, 3.49640000e+04, 1.87087485e+01, 2.19870000e+04,\n",
       "        2.88325814e+00, 2.96810000e+04, 1.47617470e+01, 3.64080000e+04,\n",
       "        2.69802125e+00, 2.25670000e+04],\n",
       "       [3.62005544e+01, 7.35600000e+04, 2.92117755e+01, 3.80420000e+04,\n",
       "        1.74381340e+01, 1.68320000e+04, 1.72168764e+00, 1.67330000e+04,\n",
       "        1.40368094e+01, 1.74730000e+04, 6.12448631e+00, 1.62900000e+04,\n",
       "        1.46005738e+01, 1.63980000e+04],\n",
       "       [2.83386086e+00, 3.85710000e+04, 1.47937821e+01, 6.79530000e+04,\n",
       "        6.95469451e+00, 2.51980000e+04, 1.83769047e+01, 6.67010000e+04,\n",
       "        3.60962328e+01, 7.30770000e+04, 6.79235103e+01, 7.92970000e+04,\n",
       "        1.29529197e+01, 1.64860000e+04],\n",
       "       [5.17127614e+01, 7.66610000e+04, 1.80422294e+00, 2.28030000e+04,\n",
       "        7.28764538e+00, 3.59980000e+04, 1.75274868e+01, 4.17900000e+04,\n",
       "        1.92915541e+01, 7.71490000e+04, 2.12581349e+01, 8.35880000e+04,\n",
       "        4.50344171e+01, 8.35990000e+04],\n",
       "       [1.60923669e+01, 6.76650000e+04, 2.83574754e+01, 3.25950000e+04,\n",
       "        2.74388471e+01, 7.40120000e+04, 3.02620790e+01, 8.01840000e+04,\n",
       "        2.21947231e+01, 3.27560000e+04, 1.96582484e+01, 2.47730000e+04,\n",
       "        1.56708976e+01, 6.67750000e+04]])"
      ]
     },
     "execution_count": 120,
     "metadata": {},
     "output_type": "execute_result"
    }
   ],
   "source": [
    "np.asarray(mse_hitid)"
   ]
  },
  {
   "cell_type": "code",
   "execution_count": null,
   "metadata": {},
   "outputs": [],
   "source": [
    "pool = Pool(4)\n"
   ]
  }
 ],
 "metadata": {
  "kernelspec": {
   "display_name": "Python [conda env:py36]",
   "language": "python",
   "name": "conda-env-py36-py"
  },
  "language_info": {
   "codemirror_mode": {
    "name": "ipython",
    "version": 3
   },
   "file_extension": ".py",
   "mimetype": "text/x-python",
   "name": "python",
   "nbconvert_exporter": "python",
   "pygments_lexer": "ipython3",
   "version": "3.6.4"
  }
 },
 "nbformat": 4,
 "nbformat_minor": 2
}
