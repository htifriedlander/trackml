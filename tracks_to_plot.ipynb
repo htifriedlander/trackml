{
 "cells": [
  {
   "cell_type": "code",
   "execution_count": 1,
   "metadata": {},
   "outputs": [],
   "source": [
    "import numpy as np\n",
    "import matplotlib.pyplot as plt\n",
    "from mpl_toolkits.mplot3d import axes3d, Axes3D\n",
    "import random\n",
    "%run utils.ipynb\n",
    "%matplotlib notebook"
   ]
  },
  {
   "cell_type": "code",
   "execution_count": null,
   "metadata": {},
   "outputs": [],
   "source": [
    "np.load ('./seeds/training_event_1050.npy')"
   ]
  },
  {
   "cell_type": "code",
   "execution_count": null,
   "metadata": {},
   "outputs": [],
   "source": [
    "seeds = np.load ('./seeds/training_event_1050.npy')"
   ]
  },
  {
   "cell_type": "code",
   "execution_count": 10,
   "metadata": {},
   "outputs": [],
   "source": [
    "hits, cells, particles, truth = load_single_train_event(1050)"
   ]
  },
  {
   "cell_type": "code",
   "execution_count": 14,
   "metadata": {},
   "outputs": [
    {
     "data": {
      "text/html": [
       "<div>\n",
       "<style scoped>\n",
       "    .dataframe tbody tr th:only-of-type {\n",
       "        vertical-align: middle;\n",
       "    }\n",
       "\n",
       "    .dataframe tbody tr th {\n",
       "        vertical-align: top;\n",
       "    }\n",
       "\n",
       "    .dataframe thead th {\n",
       "        text-align: right;\n",
       "    }\n",
       "</style>\n",
       "<table border=\"1\" class=\"dataframe\">\n",
       "  <thead>\n",
       "    <tr style=\"text-align: right;\">\n",
       "      <th></th>\n",
       "      <th>particle_id</th>\n",
       "      <th>vx</th>\n",
       "      <th>vy</th>\n",
       "      <th>vz</th>\n",
       "      <th>px</th>\n",
       "      <th>py</th>\n",
       "      <th>pz</th>\n",
       "      <th>q</th>\n",
       "      <th>nhits</th>\n",
       "    </tr>\n",
       "  </thead>\n",
       "  <tbody>\n",
       "    <tr>\n",
       "      <th>count</th>\n",
       "      <td>1.106100e+04</td>\n",
       "      <td>11061.000000</td>\n",
       "      <td>11061.000000</td>\n",
       "      <td>11061.000000</td>\n",
       "      <td>11061.000000</td>\n",
       "      <td>11061.000000</td>\n",
       "      <td>11061.000000</td>\n",
       "      <td>11061.000000</td>\n",
       "      <td>11061.000000</td>\n",
       "    </tr>\n",
       "    <tr>\n",
       "      <th>mean</th>\n",
       "      <td>4.480790e+17</td>\n",
       "      <td>-2.484282</td>\n",
       "      <td>0.520672</td>\n",
       "      <td>-14.159027</td>\n",
       "      <td>-0.001838</td>\n",
       "      <td>0.001185</td>\n",
       "      <td>0.076981</td>\n",
       "      <td>0.108580</td>\n",
       "      <td>8.531869</td>\n",
       "    </tr>\n",
       "    <tr>\n",
       "      <th>std</th>\n",
       "      <td>2.572011e+17</td>\n",
       "      <td>120.487106</td>\n",
       "      <td>118.336197</td>\n",
       "      <td>541.072632</td>\n",
       "      <td>0.718779</td>\n",
       "      <td>0.575091</td>\n",
       "      <td>6.809388</td>\n",
       "      <td>0.994133</td>\n",
       "      <td>5.020573</td>\n",
       "    </tr>\n",
       "    <tr>\n",
       "      <th>min</th>\n",
       "      <td>4.503668e+15</td>\n",
       "      <td>-967.625977</td>\n",
       "      <td>-895.179016</td>\n",
       "      <td>-2952.500000</td>\n",
       "      <td>-23.495199</td>\n",
       "      <td>-10.827900</td>\n",
       "      <td>-176.714005</td>\n",
       "      <td>-1.000000</td>\n",
       "      <td>0.000000</td>\n",
       "    </tr>\n",
       "    <tr>\n",
       "      <th>25%</th>\n",
       "      <td>2.251826e+17</td>\n",
       "      <td>-0.017267</td>\n",
       "      <td>-0.013733</td>\n",
       "      <td>-5.382730</td>\n",
       "      <td>-0.215180</td>\n",
       "      <td>-0.213003</td>\n",
       "      <td>-0.853427</td>\n",
       "      <td>-1.000000</td>\n",
       "      <td>4.000000</td>\n",
       "    </tr>\n",
       "    <tr>\n",
       "      <th>50%</th>\n",
       "      <td>4.413597e+17</td>\n",
       "      <td>-0.000644</td>\n",
       "      <td>0.001997</td>\n",
       "      <td>-0.448142</td>\n",
       "      <td>0.000067</td>\n",
       "      <td>0.004904</td>\n",
       "      <td>-0.003167</td>\n",
       "      <td>1.000000</td>\n",
       "      <td>10.000000</td>\n",
       "    </tr>\n",
       "    <tr>\n",
       "      <th>75%</th>\n",
       "      <td>6.305115e+17</td>\n",
       "      <td>0.014940</td>\n",
       "      <td>0.016001</td>\n",
       "      <td>5.512190</td>\n",
       "      <td>0.209945</td>\n",
       "      <td>0.215331</td>\n",
       "      <td>0.916940</td>\n",
       "      <td>1.000000</td>\n",
       "      <td>12.000000</td>\n",
       "    </tr>\n",
       "    <tr>\n",
       "      <th>max</th>\n",
       "      <td>9.142405e+17</td>\n",
       "      <td>884.231018</td>\n",
       "      <td>963.219971</td>\n",
       "      <td>2955.500000</td>\n",
       "      <td>30.096701</td>\n",
       "      <td>14.748400</td>\n",
       "      <td>132.725006</td>\n",
       "      <td>1.000000</td>\n",
       "      <td>20.000000</td>\n",
       "    </tr>\n",
       "  </tbody>\n",
       "</table>\n",
       "</div>"
      ],
      "text/plain": [
       "        particle_id            vx            vy            vz            px  \\\n",
       "count  1.106100e+04  11061.000000  11061.000000  11061.000000  11061.000000   \n",
       "mean   4.480790e+17     -2.484282      0.520672    -14.159027     -0.001838   \n",
       "std    2.572011e+17    120.487106    118.336197    541.072632      0.718779   \n",
       "min    4.503668e+15   -967.625977   -895.179016  -2952.500000    -23.495199   \n",
       "25%    2.251826e+17     -0.017267     -0.013733     -5.382730     -0.215180   \n",
       "50%    4.413597e+17     -0.000644      0.001997     -0.448142      0.000067   \n",
       "75%    6.305115e+17      0.014940      0.016001      5.512190      0.209945   \n",
       "max    9.142405e+17    884.231018    963.219971   2955.500000     30.096701   \n",
       "\n",
       "                 py            pz             q         nhits  \n",
       "count  11061.000000  11061.000000  11061.000000  11061.000000  \n",
       "mean       0.001185      0.076981      0.108580      8.531869  \n",
       "std        0.575091      6.809388      0.994133      5.020573  \n",
       "min      -10.827900   -176.714005     -1.000000      0.000000  \n",
       "25%       -0.213003     -0.853427     -1.000000      4.000000  \n",
       "50%        0.004904     -0.003167      1.000000     10.000000  \n",
       "75%        0.215331      0.916940      1.000000     12.000000  \n",
       "max       14.748400    132.725006      1.000000     20.000000  "
      ]
     },
     "execution_count": 14,
     "metadata": {},
     "output_type": "execute_result"
    }
   ],
   "source": [
    "particles.describe()"
   ]
  },
  {
   "cell_type": "code",
   "execution_count": 11,
   "metadata": {},
   "outputs": [
    {
     "data": {
      "text/html": [
       "<div>\n",
       "<style scoped>\n",
       "    .dataframe tbody tr th:only-of-type {\n",
       "        vertical-align: middle;\n",
       "    }\n",
       "\n",
       "    .dataframe tbody tr th {\n",
       "        vertical-align: top;\n",
       "    }\n",
       "\n",
       "    .dataframe thead th {\n",
       "        text-align: right;\n",
       "    }\n",
       "</style>\n",
       "<table border=\"1\" class=\"dataframe\">\n",
       "  <thead>\n",
       "    <tr style=\"text-align: right;\">\n",
       "      <th></th>\n",
       "      <th>hit_id</th>\n",
       "      <th>x</th>\n",
       "      <th>y</th>\n",
       "      <th>z</th>\n",
       "      <th>volume_id</th>\n",
       "      <th>layer_id</th>\n",
       "      <th>module_id</th>\n",
       "    </tr>\n",
       "  </thead>\n",
       "  <tbody>\n",
       "    <tr>\n",
       "      <th>count</th>\n",
       "      <td>112098.000000</td>\n",
       "      <td>112098.000000</td>\n",
       "      <td>112098.000000</td>\n",
       "      <td>112098.000000</td>\n",
       "      <td>112098.000000</td>\n",
       "      <td>112098.000000</td>\n",
       "      <td>112098.000000</td>\n",
       "    </tr>\n",
       "    <tr>\n",
       "      <th>mean</th>\n",
       "      <td>56049.500000</td>\n",
       "      <td>0.783948</td>\n",
       "      <td>2.881532</td>\n",
       "      <td>2.096518</td>\n",
       "      <td>10.952497</td>\n",
       "      <td>5.909793</td>\n",
       "      <td>374.875207</td>\n",
       "    </tr>\n",
       "    <tr>\n",
       "      <th>std</th>\n",
       "      <td>32360.049575</td>\n",
       "      <td>306.979675</td>\n",
       "      <td>307.990692</td>\n",
       "      <td>1067.998291</td>\n",
       "      <td>3.376614</td>\n",
       "      <td>3.404592</td>\n",
       "      <td>535.688146</td>\n",
       "    </tr>\n",
       "    <tr>\n",
       "      <th>min</th>\n",
       "      <td>1.000000</td>\n",
       "      <td>-1024.479980</td>\n",
       "      <td>-1025.229980</td>\n",
       "      <td>-2955.500000</td>\n",
       "      <td>7.000000</td>\n",
       "      <td>2.000000</td>\n",
       "      <td>1.000000</td>\n",
       "    </tr>\n",
       "    <tr>\n",
       "      <th>25%</th>\n",
       "      <td>28025.250000</td>\n",
       "      <td>-98.161402</td>\n",
       "      <td>-97.860477</td>\n",
       "      <td>-655.799988</td>\n",
       "      <td>8.000000</td>\n",
       "      <td>4.000000</td>\n",
       "      <td>59.000000</td>\n",
       "    </tr>\n",
       "    <tr>\n",
       "      <th>50%</th>\n",
       "      <td>56049.500000</td>\n",
       "      <td>0.387076</td>\n",
       "      <td>1.135250</td>\n",
       "      <td>0.040626</td>\n",
       "      <td>9.000000</td>\n",
       "      <td>6.000000</td>\n",
       "      <td>120.000000</td>\n",
       "    </tr>\n",
       "    <tr>\n",
       "      <th>75%</th>\n",
       "      <td>84073.750000</td>\n",
       "      <td>100.347998</td>\n",
       "      <td>103.780249</td>\n",
       "      <td>672.400024</td>\n",
       "      <td>13.000000</td>\n",
       "      <td>8.000000</td>\n",
       "      <td>487.000000</td>\n",
       "    </tr>\n",
       "    <tr>\n",
       "      <th>max</th>\n",
       "      <td>112098.000000</td>\n",
       "      <td>1024.569946</td>\n",
       "      <td>1024.780029</td>\n",
       "      <td>2955.500000</td>\n",
       "      <td>18.000000</td>\n",
       "      <td>14.000000</td>\n",
       "      <td>3191.000000</td>\n",
       "    </tr>\n",
       "  </tbody>\n",
       "</table>\n",
       "</div>"
      ],
      "text/plain": [
       "              hit_id              x              y              z  \\\n",
       "count  112098.000000  112098.000000  112098.000000  112098.000000   \n",
       "mean    56049.500000       0.783948       2.881532       2.096518   \n",
       "std     32360.049575     306.979675     307.990692    1067.998291   \n",
       "min         1.000000   -1024.479980   -1025.229980   -2955.500000   \n",
       "25%     28025.250000     -98.161402     -97.860477    -655.799988   \n",
       "50%     56049.500000       0.387076       1.135250       0.040626   \n",
       "75%     84073.750000     100.347998     103.780249     672.400024   \n",
       "max    112098.000000    1024.569946    1024.780029    2955.500000   \n",
       "\n",
       "           volume_id       layer_id      module_id  \n",
       "count  112098.000000  112098.000000  112098.000000  \n",
       "mean       10.952497       5.909793     374.875207  \n",
       "std         3.376614       3.404592     535.688146  \n",
       "min         7.000000       2.000000       1.000000  \n",
       "25%         8.000000       4.000000      59.000000  \n",
       "50%         9.000000       6.000000     120.000000  \n",
       "75%        13.000000       8.000000     487.000000  \n",
       "max        18.000000      14.000000    3191.000000  "
      ]
     },
     "execution_count": 11,
     "metadata": {},
     "output_type": "execute_result"
    }
   ],
   "source": [
    "hits.describe()"
   ]
  },
  {
   "cell_type": "code",
   "execution_count": null,
   "metadata": {},
   "outputs": [],
   "source": [
    "#array_of_tracks = rpzlv_from_seeds(seeds, hits)"
   ]
  },
  {
   "cell_type": "code",
   "execution_count": null,
   "metadata": {},
   "outputs": [],
   "source": [
    "#np.random.shuffle(array_of_tracks)"
   ]
  },
  {
   "cell_type": "code",
   "execution_count": null,
   "metadata": {},
   "outputs": [],
   "source": [
    "#ax = Axes3D(plt.figure(figsize=(10,10)))\n",
    "#for track in array_of_tracks[:150]:\n",
    "#    r, phi, z = track[:,0], track[:,1], track[:,2]\n",
    "#    ax.scatter(r, phi, z)\n",
    "#    ax.plot(r, phi, z)\n",
    "#ax.view_init(0,90)\n",
    "#ax.set_xlabel('r (mm)')\n",
    "#ax.set_ylabel('phi (radians)')\n",
    "#ax.set_zlabel('z (mm)')\n",
    "#plt.show()"
   ]
  },
  {
   "cell_type": "code",
   "execution_count": 2,
   "metadata": {},
   "outputs": [],
   "source": [
    "hft = np.load ('./hits_from_tracks.npy')"
   ]
  },
  {
   "cell_type": "code",
   "execution_count": 3,
   "metadata": {},
   "outputs": [
    {
     "data": {
      "text/plain": [
       "(16517, 10, 5)"
      ]
     },
     "execution_count": 3,
     "metadata": {},
     "output_type": "execute_result"
    }
   ],
   "source": [
    "hft.shape"
   ]
  },
  {
   "cell_type": "markdown",
   "metadata": {},
   "source": [
    "## To-Do\n",
    "\n",
    "- vectorize quadrant_shift to work on np arrays\n",
    "- apply quadrant_shift to tracks where 1st-hit-phi > pi/2\n"
   ]
  },
  {
   "cell_type": "code",
   "execution_count": 8,
   "metadata": {},
   "outputs": [],
   "source": [
    "def quad_shift_vect(phis): #input has shape 1 x 10\n",
    "    \n",
    "    return np.where(phis<0,2*np.pi+phis, phis)\n",
    "\n",
    "def quadrant_shift (phi):\n",
    "    if (phi < 0):\n",
    "        return 2*np.pi + phi\n",
    "    else:\n",
    "        return phi\n",
    "\n",
    "    "
   ]
  },
  {
   "cell_type": "code",
   "execution_count": null,
   "metadata": {},
   "outputs": [],
   "source": [
    "hft[shift_idxs].shape"
   ]
  },
  {
   "cell_type": "code",
   "execution_count": 12,
   "metadata": {},
   "outputs": [
    {
     "data": {
      "text/plain": [
       "(16517, 10, 5)"
      ]
     },
     "execution_count": 12,
     "metadata": {},
     "output_type": "execute_result"
    }
   ],
   "source": [
    "hft.shape"
   ]
  },
  {
   "cell_type": "code",
   "execution_count": 5,
   "metadata": {},
   "outputs": [],
   "source": []
  },
  {
   "cell_type": "code",
   "execution_count": 9,
   "metadata": {},
   "outputs": [],
   "source": [
    "test = np.apply_along_axis(quad_shift_vect,1,hft[:,:,1])"
   ]
  },
  {
   "cell_type": "code",
   "execution_count": 7,
   "metadata": {},
   "outputs": [
    {
     "ename": "NameError",
     "evalue": "name 'quad_shift_fect' is not defined",
     "output_type": "error",
     "traceback": [
      "\u001b[0;31m---------------------------------------------------------------------------\u001b[0m",
      "\u001b[0;31mNameError\u001b[0m                                 Traceback (most recent call last)",
      "\u001b[0;32m<ipython-input-7-5544485f9d4c>\u001b[0m in \u001b[0;36m<module>\u001b[0;34m()\u001b[0m\n\u001b[0;32m----> 1\u001b[0;31m \u001b[0mhft\u001b[0m\u001b[0;34m[\u001b[0m\u001b[0mshift_idxs\u001b[0m\u001b[0;34m]\u001b[0m \u001b[0;34m=\u001b[0m \u001b[0mnp\u001b[0m\u001b[0;34m.\u001b[0m\u001b[0mapply_along_axis\u001b[0m\u001b[0;34m(\u001b[0m\u001b[0mquad_shift_fect\u001b[0m\u001b[0;34m,\u001b[0m\u001b[0;36m1\u001b[0m\u001b[0;34m,\u001b[0m\u001b[0mhft\u001b[0m\u001b[0;34m[\u001b[0m\u001b[0mshift_idxs\u001b[0m\u001b[0;34m]\u001b[0m\u001b[0;34m)\u001b[0m\u001b[0;34m\u001b[0m\u001b[0m\n\u001b[0m",
      "\u001b[0;31mNameError\u001b[0m: name 'quad_shift_fect' is not defined"
     ]
    }
   ],
   "source": [
    "hft[shift_idxs] = np.apply_along_axis(quad_shift_fect,1,hft[shift_idxs])"
   ]
  },
  {
   "cell_type": "code",
   "execution_count": 130,
   "metadata": {},
   "outputs": [],
   "source": [
    "a = np.arange(15).reshape((3,5))x"
   ]
  },
  {
   "cell_type": "code",
   "execution_count": null,
   "metadata": {},
   "outputs": [],
   "source": []
  },
  {
   "cell_type": "code",
   "execution_count": 135,
   "metadata": {},
   "outputs": [],
   "source": [
    "a[[0,1]] = np.zeros(shape=(2,5))"
   ]
  },
  {
   "cell_type": "code",
   "execution_count": 113,
   "metadata": {},
   "outputs": [
    {
     "ename": "ValueError",
     "evalue": "shape mismatch: value array of shape (16517,10) could not be broadcast to indexing result of shape (8048,10,5)",
     "output_type": "error",
     "traceback": [
      "\u001b[0;31m---------------------------------------------------------------------------\u001b[0m",
      "\u001b[0;31mValueError\u001b[0m                                Traceback (most recent call last)",
      "\u001b[0;32m<ipython-input-113-08d9473e9d9c>\u001b[0m in \u001b[0;36m<module>\u001b[0;34m()\u001b[0m\n\u001b[1;32m      1\u001b[0m \u001b[0;34m\u001b[0m\u001b[0m\n\u001b[1;32m      2\u001b[0m \u001b[0mshift_idxs\u001b[0m \u001b[0;34m=\u001b[0m \u001b[0mnp\u001b[0m\u001b[0;34m.\u001b[0m\u001b[0margwhere\u001b[0m\u001b[0;34m(\u001b[0m\u001b[0mabs\u001b[0m\u001b[0;34m(\u001b[0m\u001b[0mhft\u001b[0m\u001b[0;34m[\u001b[0m\u001b[0;34m:\u001b[0m\u001b[0;34m,\u001b[0m\u001b[0;34m:\u001b[0m\u001b[0;34m,\u001b[0m\u001b[0;36m1\u001b[0m\u001b[0;34m]\u001b[0m\u001b[0;34m[\u001b[0m\u001b[0;34m:\u001b[0m\u001b[0;34m,\u001b[0m\u001b[0;36m0\u001b[0m\u001b[0;34m]\u001b[0m\u001b[0;34m)\u001b[0m \u001b[0;34m>\u001b[0m \u001b[0mnp\u001b[0m\u001b[0;34m.\u001b[0m\u001b[0mpi\u001b[0m\u001b[0;34m/\u001b[0m\u001b[0;36m2\u001b[0m\u001b[0;34m)\u001b[0m\u001b[0;34m.\u001b[0m\u001b[0mflatten\u001b[0m\u001b[0;34m(\u001b[0m\u001b[0;34m)\u001b[0m\u001b[0;34m\u001b[0m\u001b[0m\n\u001b[0;32m----> 3\u001b[0;31m \u001b[0mhft\u001b[0m\u001b[0;34m[\u001b[0m\u001b[0mshift_idxs\u001b[0m\u001b[0;34m]\u001b[0m \u001b[0;34m=\u001b[0m \u001b[0mnp\u001b[0m\u001b[0;34m.\u001b[0m\u001b[0mwhere\u001b[0m\u001b[0;34m(\u001b[0m\u001b[0mtrack_phis\u001b[0m\u001b[0;34m<\u001b[0m\u001b[0;36m0\u001b[0m\u001b[0;34m,\u001b[0m\u001b[0;36m2\u001b[0m\u001b[0;34m*\u001b[0m\u001b[0mnp\u001b[0m\u001b[0;34m.\u001b[0m\u001b[0mpi\u001b[0m\u001b[0;34m+\u001b[0m\u001b[0mtrack_phis\u001b[0m\u001b[0;34m,\u001b[0m\u001b[0mtrack_phis\u001b[0m\u001b[0;34m)\u001b[0m\u001b[0;34m\u001b[0m\u001b[0m\n\u001b[0m",
      "\u001b[0;31mValueError\u001b[0m: shape mismatch: value array of shape (16517,10) could not be broadcast to indexing result of shape (8048,10,5)"
     ]
    }
   ],
   "source": [
    "\n",
    "shift_idxs = np.argwhere(abs(hft[:,:,1][:,0]) > np.pi/2).flatten()\n",
    "hft[shift_idxs] = quad_shift_vect()"
   ]
  },
  {
   "cell_type": "code",
   "execution_count": null,
   "metadata": {},
   "outputs": [],
   "source": [
    "phi_diffs_v1 = np.diff(hft[:,:,1])\n",
    "phi_diff_tot_v1 = np.absolute(np.sum(phi_diffs,axis=1))"
   ]
  },
  {
   "cell_type": "code",
   "execution_count": 136,
   "metadata": {},
   "outputs": [
    {
     "data": {
      "text/plain": [
       "array([[ 0,  0,  0,  0,  0],\n",
       "       [ 0,  0,  0,  0,  0],\n",
       "       [10, 11, 12, 13, 14]])"
      ]
     },
     "execution_count": 136,
     "metadata": {},
     "output_type": "execute_result"
    }
   ],
   "source": [
    "a"
   ]
  },
  {
   "cell_type": "code",
   "execution_count": 101,
   "metadata": {},
   "outputs": [
    {
     "data": {
      "text/plain": [
       "(8048,)"
      ]
     },
     "execution_count": 101,
     "metadata": {},
     "output_type": "execute_result"
    }
   ],
   "source": [
    "shift_idxs.shape"
   ]
  },
  {
   "cell_type": "code",
   "execution_count": null,
   "metadata": {},
   "outputs": [],
   "source": [
    "phi_info_v1 = pd.DataFrame(data=phi_diff_tot_v1)"
   ]
  },
  {
   "cell_type": "code",
   "execution_count": 95,
   "metadata": {},
   "outputs": [
    {
     "data": {
      "text/plain": [
       "array([-1.73794305, -2.11250782, -1.45903218])"
      ]
     },
     "execution_count": 95,
     "metadata": {},
     "output_type": "execute_result"
    }
   ],
   "source": [
    "hft[:,:,1][:,0]"
   ]
  },
  {
   "cell_type": "code",
   "execution_count": null,
   "metadata": {},
   "outputs": [],
   "source": [
    "phi_info_v1.describe()"
   ]
  },
  {
   "cell_type": "code",
   "execution_count": null,
   "metadata": {},
   "outputs": [],
   "source": [
    "phi_info.describe()"
   ]
  },
  {
   "cell_type": "code",
   "execution_count": null,
   "metadata": {},
   "outputs": [],
   "source": [
    "bad_idxs = np.argwhere(phi_diff_tot > .8)"
   ]
  },
  {
   "cell_type": "code",
   "execution_count": null,
   "metadata": {},
   "outputs": [],
   "source": [
    "bad_tracks = hft[bad_idxs.flatten()]"
   ]
  },
  {
   "cell_type": "code",
   "execution_count": null,
   "metadata": {},
   "outputs": [],
   "source": [
    "bad_tracks.shape"
   ]
  },
  {
   "cell_type": "code",
   "execution_count": null,
   "metadata": {},
   "outputs": [],
   "source": [
    "np.random.shuffle(hft)"
   ]
  },
  {
   "cell_type": "code",
   "execution_count": null,
   "metadata": {},
   "outputs": [],
   "source": [
    "ax = Axes3D(plt.figure(figsize=(10,10)))\n",
    "for track in bad_tracks[:125]:\n",
    "    r, phi, z = track[:,0], track[:,1], track[:,2]\n",
    "    ax.scatter(r, phi, z)\n",
    "    ax.plot(r, phi, z)\n",
    "ax.view_init(0,0)\n",
    "ax.set_xlabel('r (mm)')\n",
    "ax.set_ylabel('phi (radians)')\n",
    "ax.set_zlabel('z (mm)')\n",
    "plt.show()"
   ]
  },
  {
   "cell_type": "code",
   "execution_count": null,
   "metadata": {},
   "outputs": [],
   "source": []
  }
 ],
 "metadata": {
  "kernelspec": {
   "display_name": "Python [conda env:py36]",
   "language": "python",
   "name": "conda-env-py36-py"
  },
  "language_info": {
   "codemirror_mode": {
    "name": "ipython",
    "version": 3
   },
   "file_extension": ".py",
   "mimetype": "text/x-python",
   "name": "python",
   "nbconvert_exporter": "python",
   "pygments_lexer": "ipython3",
   "version": "3.6.4"
  }
 },
 "nbformat": 4,
 "nbformat_minor": 2
}
